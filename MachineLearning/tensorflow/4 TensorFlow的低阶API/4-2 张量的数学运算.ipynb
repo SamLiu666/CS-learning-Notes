{
 "cells": [
  {
   "cell_type": "markdown",
   "metadata": {},
   "source": [
    "# 1 创建张量"
   ]
  },
  {
   "cell_type": "code",
   "execution_count": 3,
   "metadata": {},
   "outputs": [],
   "source": [
    "import tensorflow as tf\n",
    "import numpy as np"
   ]
  },
  {
   "cell_type": "code",
   "execution_count": 5,
   "metadata": {},
   "outputs": [],
   "source": [
    "a = tf.constant([1,2,3.0])  # 0 维张量\n",
    "b = tf.range(1,10,delta=3)   \n",
    "c = tf.linspace(0.0, 2*6, 50)\n",
    "d = tf.zeros([3,3])"
   ]
  },
  {
   "cell_type": "code",
   "execution_count": 6,
   "metadata": {},
   "outputs": [
    {
     "name": "stdout",
     "output_type": "stream",
     "text": [
      "tf.Tensor([1. 2. 3.], shape=(3,), dtype=float32)\n",
      "tf.Tensor([1 4 7], shape=(3,), dtype=int32)\n",
      "tf.Tensor(\n",
      "[ 0.          0.24489796  0.48979592  0.7346939   0.97959185  1.2244898\n",
      "  1.4693878   1.7142857   1.9591837   2.2040815   2.4489796   2.6938777\n",
      "  2.9387755   3.1836734   3.4285715   3.6734695   3.9183674   4.163265\n",
      "  4.408163    4.6530614   4.897959    5.142857    5.3877554   5.632653\n",
      "  5.877551    6.122449    6.367347    6.612245    6.857143    7.102041\n",
      "  7.346939    7.591837    7.836735    8.081633    8.32653     8.571428\n",
      "  8.816326    9.061225    9.306123    9.551021    9.795918   10.040816\n",
      " 10.285714   10.530612   10.775511   11.020409   11.265306   11.510204\n",
      " 11.755102   12.        ], shape=(50,), dtype=float32)\n",
      "tf.Tensor(\n",
      "[[0. 0. 0.]\n",
      " [0. 0. 0.]\n",
      " [0. 0. 0.]], shape=(3, 3), dtype=float32)\n"
     ]
    }
   ],
   "source": [
    "print(a, b, c, d, sep='\\n')"
   ]
  },
  {
   "cell_type": "code",
   "execution_count": 9,
   "metadata": {},
   "outputs": [],
   "source": [
    "e = tf.ones([3,3])\n",
    "f = tf.zeros_like(e, dtype = tf.float32)  # 和e 张量一致，元素值为0\n",
    "g = tf.fill([3,4],3)    # 以元素3填充张量"
   ]
  },
  {
   "cell_type": "code",
   "execution_count": 10,
   "metadata": {},
   "outputs": [
    {
     "name": "stdout",
     "output_type": "stream",
     "text": [
      "tf.Tensor(\n",
      "[[1. 1. 1.]\n",
      " [1. 1. 1.]\n",
      " [1. 1. 1.]], shape=(3, 3), dtype=float32) tf.Tensor(\n",
      "[[0. 0. 0.]\n",
      " [0. 0. 0.]\n",
      " [0. 0. 0.]], shape=(3, 3), dtype=float32) tf.Tensor(\n",
      "[[3 3 3 3]\n",
      " [3 3 3 3]\n",
      " [3 3 3 3]], shape=(3, 4), dtype=int32)\n"
     ]
    }
   ],
   "source": [
    "print(e,f,g)"
   ]
  },
  {
   "cell_type": "code",
   "execution_count": 29,
   "metadata": {},
   "outputs": [],
   "source": [
    "# 均匀随机分布\n",
    "tf.random.set_seed(1.0)  # 设定种子，每次随机结果和上一次一直\n",
    "h1 = tf.random.uniform([5], minval=0, maxval=10) \n",
    "h1_1 = tf.random.uniform([5], minval=0, maxval=10)\n",
    "tf.random.set_seed(2.0)\n",
    "h2 = tf.random.uniform([5], minval=0, maxval=10)\n",
    "tf.random.set_seed(0)\n",
    "h3 = tf.random.uniform([5], minval=0, maxval=10)"
   ]
  },
  {
   "cell_type": "code",
   "execution_count": 30,
   "metadata": {},
   "outputs": [
    {
     "name": "stdout",
     "output_type": "stream",
     "text": [
      "tf.Tensor([1.6513085 9.014812  6.309742  4.345461  2.9193902], shape=(5,), dtype=float32)\n",
      "tf.Tensor([1.4690244 4.6425676 2.2489977 3.5288846 9.857408 ], shape=(5,), dtype=float32)\n",
      "tf.Tensor([5.1010704 4.4353175 4.085331  9.924923  6.8866396], shape=(5,), dtype=float32)\n",
      "tf.Tensor([2.9197514 2.0656645 5.3539076 5.6125746 4.166745 ], shape=(5,), dtype=float32)\n"
     ]
    }
   ],
   "source": [
    "print(h1,h2, h1_1, h3,sep='\\n')"
   ]
  },
  {
   "cell_type": "code",
   "execution_count": 33,
   "metadata": {},
   "outputs": [
    {
     "name": "stdout",
     "output_type": "stream",
     "text": [
      "tf.Tensor(\n",
      "[[-1.8041286  -0.11153453 -0.84555113]\n",
      " [ 0.8489615   0.12237629  1.3350475 ]\n",
      " [ 0.619644   -0.5498301  -0.6082269 ]], shape=(3, 3), dtype=float32)\n"
     ]
    }
   ],
   "source": [
    "# 正态随机分布\n",
    "i = tf.random.normal([3,3], mean=0.0, stddev=1.0)\n",
    "print(i)"
   ]
  },
  {
   "cell_type": "code",
   "execution_count": 36,
   "metadata": {},
   "outputs": [
    {
     "name": "stdout",
     "output_type": "stream",
     "text": [
      "tf.Tensor(\n",
      "[[1. 0. 0. 0.]\n",
      " [0. 1. 0. 0.]\n",
      " [0. 0. 1. 0.]\n",
      " [0. 0. 0. 1.]], shape=(4, 4), dtype=float32) tf.Tensor(\n",
      "[[1. 0. 0. 0.]\n",
      " [0. 2. 0. 0.]\n",
      " [0. 0. 3. 0.]\n",
      " [0. 0. 0. 4.]], shape=(4, 4), dtype=float32)\n"
     ]
    }
   ],
   "source": [
    "# 特殊矩阵\n",
    "E = tf.eye(4,4)     # 单位矩阵\n",
    "Diag = tf.linalg.diag([1,2,3.0,4])  # 对角矩阵\n",
    "print(E, Diag)"
   ]
  },
  {
   "cell_type": "markdown",
   "metadata": {},
   "source": [
    "# 2 索引切片\n",
    "tf.Variable,可以通过索引和切片对部分元素进行修改\n",
    "提取张量的连续子区域，也可以使用tf.slice\n",
    "不规则的切片提取,可以使用tf.gather,tf.gather_nd,tf.boolean_mask\n",
    "通过修改张量的某些元素得到新的张量，可以使用tf.where，tf.scatter_nd"
   ]
  },
  {
   "cell_type": "code",
   "execution_count": 40,
   "metadata": {},
   "outputs": [
    {
     "name": "stdout",
     "output_type": "stream",
     "text": [
      "[[4 7 4 2 9]\n",
      " [9 1 2 4 7]\n",
      " [7 2 7 4 0]\n",
      " [9 6 9 7 2]\n",
      " [3 7 0 0 3]]\r\n"
     ]
    }
   ],
   "source": [
    "tf.random.set_seed(3)   # seed 相同任意生成随机数相同\n",
    "t = tf.random.uniform([5,5], minval=0, maxval=10, dtype=tf.int32)\n",
    "tf.print(t)"
   ]
  },
  {
   "cell_type": "code",
   "execution_count": 47,
   "metadata": {},
   "outputs": [],
   "source": [
    "l1 = t[0]  # 第一行\n",
    "f1 = t[-1]  # 最后一行\n",
    "l_1_3 = t[1,3] # 第一行第三列元素"
   ]
  },
  {
   "cell_type": "code",
   "execution_count": 48,
   "metadata": {},
   "outputs": [
    {
     "name": "stdout",
     "output_type": "stream",
     "text": [
      "tf.Tensor([4 7 4 2 9], shape=(5,), dtype=int32)\n",
      "tf.Tensor([3 7 0 0 3], shape=(5,), dtype=int32)\n",
      "tf.Tensor(4, shape=(), dtype=int32)\n"
     ]
    }
   ],
   "source": [
    "print(l1, f1, l_1_3,sep='\\n')"
   ]
  },
  {
   "cell_type": "code",
   "execution_count": 57,
   "metadata": {},
   "outputs": [],
   "source": [
    "l1_l3 = t[1:4, :]    # 第一行至第三行\n",
    "l1_l3_2 = tf.slice(t, [1,0], [3,5])   # 第一行至第三行\n",
    "l1_l3_3 = tf.slice(t, [1,0], [3,3])   # 第一行至第三行, 第一列至第三列"
   ]
  },
  {
   "cell_type": "code",
   "execution_count": 58,
   "metadata": {},
   "outputs": [
    {
     "name": "stdout",
     "output_type": "stream",
     "text": [
      "tf.Tensor(\n",
      "[[9 1 2 4 7]\n",
      " [7 2 7 4 0]\n",
      " [9 6 9 7 2]], shape=(3, 5), dtype=int32)\n",
      "tf.Tensor(\n",
      "[[9 1 2 4 7]\n",
      " [7 2 7 4 0]\n",
      " [9 6 9 7 2]], shape=(3, 5), dtype=int32)\n",
      "tf.Tensor(\n",
      "[[9 1 2]\n",
      " [7 2 7]\n",
      " [9 6 9]], shape=(3, 3), dtype=int32)\n"
     ]
    }
   ],
   "source": [
    "print(l1_l3, l1_l3_2,l1_l3_3, sep='\\n')"
   ]
  },
  {
   "cell_type": "code",
   "execution_count": 62,
   "metadata": {},
   "outputs": [
    {
     "name": "stdout",
     "output_type": "stream",
     "text": [
      "x= [[1 3]\n",
      " [2 4]]\n",
      "x= [[1 3]\n",
      " [0 0]]\n"
     ]
    }
   ],
   "source": [
    "#对变量来说，还可以使用索引和切片修改部分元素\n",
    "x = tf.Variable([[1,3], [2,4.0]])\n",
    "tf.print('x=',x)\n",
    "x[1, :].assign(tf.constant([0.0,0.0]))   # 改变第一行的元素\n",
    "tf.print('x=',x)"
   ]
  },
  {
   "cell_type": "code",
   "execution_count": 66,
   "metadata": {},
   "outputs": [
    {
     "name": "stdout",
     "output_type": "stream",
     "text": [
      "[[[2 2 6]\n",
      "  [5 7 6]\n",
      "  [4 8 6]]\n",
      "\n",
      " [[4 6 3]\n",
      "  [8 1 7]\n",
      "  [3 1 3]]\n",
      "\n",
      " [[2 1 6]\n",
      "  [3 1 8]\n",
      "  [9 3 7]]]\n",
      "tf.Tensor(\n",
      "[[2 7 8]\n",
      " [6 1 1]\n",
      " [1 1 3]], shape=(3, 3), dtype=int32)\n"
     ]
    }
   ],
   "source": [
    "ttt = tf.random.uniform([3,3,3],minval=0,maxval=10,dtype=tf.int32)\n",
    "tf.print(ttt)\n",
    "l_f_1 = ttt[...,1] # 取张量的每一维度上的第一列\n",
    "print(l_f_1)"
   ]
  },
  {
   "cell_type": "markdown",
   "metadata": {},
   "source": [
    "## 不规则的切片方式\n",
    "**举例说明** 有4个班级，每个班级12个学生，每个学生6门科目成绩。可以用一个4，12，6的张量来表示。 最低分20，最高分100"
   ]
  },
  {
   "cell_type": "code",
   "execution_count": 73,
   "metadata": {},
   "outputs": [
    {
     "name": "stdout",
     "output_type": "stream",
     "text": [
      "[[[75 90 22 50 30 62]\n",
      "  [73 92 57 90 40 58]\n",
      "  [48 91 81 20 56 68]\n",
      "  ...\n",
      "  [25 77 91 97 75 90]\n",
      "  [94 63 35 75 69 83]\n",
      "  [56 61 37 22 53 84]]\n",
      "\n",
      " [[40 76 37 84 67 59]\n",
      "  [87 52 22 92 38 42]\n",
      "  [37 77 53 80 50 71]\n",
      "  ...\n",
      "  [86 83 26 70 49 74]\n",
      "  [75 25 92 43 36 79]\n",
      "  [43 20 58 97 29 28]]\n",
      "\n",
      " [[22 45 94 54 23 44]\n",
      "  [27 24 53 93 54 25]\n",
      "  [95 37 96 35 90 88]\n",
      "  ...\n",
      "  [52 80 27 29 84 95]\n",
      "  [70 76 32 57 92 54]\n",
      "  [41 94 96 74 71 70]]\n",
      "\n",
      " [[69 57 98 47 28 66]\n",
      "  [39 84 73 52 23 93]\n",
      "  [78 47 56 60 83 51]\n",
      "  ...\n",
      "  [61 53 78 75 43 24]\n",
      "  [72 71 90 47 70 44]\n",
      "  [43 75 99 50 21 84]]]\r\n"
     ]
    },
    {
     "data": {
      "text/plain": [
       "<tf.Tensor: id=480, shape=(3,), dtype=int32, numpy=array([ 4, 12,  6])>"
      ]
     },
     "execution_count": 73,
     "metadata": {},
     "output_type": "execute_result"
    }
   ],
   "source": [
    "scores = tf.random.uniform((4,12,6),minval=20,maxval=100,dtype=tf.int32)\n",
    "tf.print(scores)\n",
    "tf.shape(scores)"
   ]
  },
  {
   "cell_type": "code",
   "execution_count": 69,
   "metadata": {},
   "outputs": [
    {
     "name": "stdout",
     "output_type": "stream",
     "text": [
      "tf.Tensor(\n",
      "[[[40 28 62 67 48 28 47]\n",
      "  [30 73 71 94 84 40 62]\n",
      "  [84 82 31 34 27 34 89]]\n",
      "\n",
      " [[81 91 73 47 96 22 80]\n",
      "  [87 68 63 80 51 74 45]\n",
      "  [58 21 85 42 51 28 95]]\n",
      "\n",
      " [[88 50 30 27 80 77 84]\n",
      "  [92 39 49 39 49 71 76]\n",
      "  [34 50 42 35 71 65 35]]\n",
      "\n",
      " [[39 23 81 22 86 40 29]\n",
      "  [75 29 33 50 69 86 55]\n",
      "  [60 65 68 32 38 20 50]]], shape=(4, 3, 7), dtype=int32)\n"
     ]
    }
   ],
   "source": [
    "p_0_4_8 = tf.gather(scores, [0, 4, 8], axis=1)#抽取每个班第0，4，8个学生的全部成绩\n",
    "print(p_0_4_8)"
   ]
  },
  {
   "cell_type": "code",
   "execution_count": 76,
   "metadata": {},
   "outputs": [
    {
     "name": "stdout",
     "output_type": "stream",
     "text": [
      "tf.Tensor(\n",
      "[[[90 50 62]\n",
      "  [50 74 94]\n",
      "  [77 97 90]]\n",
      "\n",
      " [[76 84 59]\n",
      "  [67 81 62]\n",
      "  [83 70 74]]\n",
      "\n",
      " [[45 54 44]\n",
      "  [81 41 75]\n",
      "  [80 29 95]]\n",
      "\n",
      " [[57 47 66]\n",
      "  [96 58 33]\n",
      "  [53 75 24]]], shape=(4, 3, 3), dtype=int32)\n"
     ]
    }
   ],
   "source": [
    "#抽取每个班级第0个学生，第5个学生，第9个学生的第1门课程，第3门课程，第5门课程成绩\n",
    "q = tf.gather(tf.gather(scores, [0,5,9], axis=1), [1,3,5], axis=2)\n",
    "print(q)"
   ]
  },
  {
   "cell_type": "code",
   "execution_count": 78,
   "metadata": {},
   "outputs": [
    {
     "name": "stdout",
     "output_type": "stream",
     "text": [
      "tf.Tensor(\n",
      "[[75 90 22 50 30 62]\n",
      " [35 28 39 75 88 26]\n",
      " [33 70 27 87 49 82]\n",
      " [83 99 74 43 73 44]], shape=(4, 6), dtype=int32)\n"
     ]
    }
   ],
   "source": [
    "# 抽取第0个班级第0个学生，第2个班级的第4个学生，第3个班级的第6个学生的全部成绩\n",
    "#indices的长度为采样样本的个数，每个元素为采样位置的坐标\n",
    "s = tf.gather_nd(scores, indices=[(0,0), (1,4), (2,4), (3,6)])\n",
    "print(s)"
   ]
  },
  {
   "cell_type": "code",
   "execution_count": 83,
   "metadata": {},
   "outputs": [
    {
     "name": "stdout",
     "output_type": "stream",
     "text": [
      "WARNING:tensorflow:From D:\\Anaconda\\envs\\tensorflow2.0\\lib\\site-packages\\tensorflow\\python\\ops\\array_ops.py:1340: add_dispatch_support.<locals>.wrapper (from tensorflow.python.ops.array_ops) is deprecated and will be removed in a future version.\n",
      "Instructions for updating:\n",
      "Use tf.where in 2.0, which has the same broadcast rule as np.where\n",
      "tf.Tensor(\n",
      "[[[75 90 22 50 30 62]\n",
      "  [53 50 33 74 65 94]\n",
      "  [94 63 35 75 69 83]]\n",
      "\n",
      " [[40 76 37 84 67 59]\n",
      "  [25 67 91 81 78 62]\n",
      "  [75 25 92 43 36 79]]\n",
      "\n",
      " [[22 45 94 54 23 44]\n",
      "  [76 81 33 41 31 75]\n",
      "  [70 76 32 57 92 54]]\n",
      "\n",
      " [[69 57 98 47 28 66]\n",
      "  [24 96 36 58 83 33]\n",
      "  [72 71 90 47 70 44]]], shape=(4, 3, 6), dtype=int32)\n"
     ]
    }
   ],
   "source": [
    "# 以上tf.gather和tf.gather_nd的功能也可以用tf.boolean_mask来实现。\n",
    "pp = tf.boolean_mask(scores,[True,False,False,False,False,\n",
    "True,False,False,False,False,True,False],axis=1)\n",
    "print(pp)"
   ]
  },
  {
   "cell_type": "code",
   "execution_count": 95,
   "metadata": {},
   "outputs": [
    {
     "name": "stdout",
     "output_type": "stream",
     "text": [
      "tf.Tensor(\n",
      "[[-3  4  2]\n",
      " [-4  3  1]\n",
      " [ 1 -4  1]], shape=(3, 3), dtype=int32)\n",
      "[-3 -4 -4]\r\n"
     ]
    }
   ],
   "source": [
    "#利用tf.boolean_mask可以实现布尔索引\n",
    "tf.random.set_seed(1.0)\n",
    "zz = tf.random.uniform([3,3], minval=-5, maxval=5, dtype=tf.int32)\n",
    "print(zz)\n",
    "\n",
    "# 找出张量中小于0的元素\n",
    "zz_0 = zz[zz<0]\n",
    "tf.print(zz_0)"
   ]
  },
  {
   "cell_type": "markdown",
   "metadata": {},
   "source": [
    "## 修改张量\n",
    "如果要通过修改张量的部分元素值得到新的张量，可以使用tf.where和tf.scatter_nd。\n",
    "\n",
    "tf.where可以理解为if的张量版本，此外它还可以用于找到满足条件的所有元素的位置坐标。\n",
    "\n",
    "tf.scatter_nd的作用和tf.gather_nd有些相反，tf.gather_nd用于收集张量的给定位置的元素，\n",
    "\n",
    "而tf.scatter_nd可以将某些值插入到一个给定shape的全0的张量的指定位置处。"
   ]
  },
  {
   "cell_type": "code",
   "execution_count": 116,
   "metadata": {},
   "outputs": [
    {
     "name": "stdout",
     "output_type": "stream",
     "text": [
      "[[-3 4 2]\n",
      " [-4 3 1]\n",
      " [1 -4 1]]\n",
      "tf.Tensor(\n",
      "[[0 4 2]\n",
      " [0 3 1]\n",
      " [1 0 1]], shape=(3, 3), dtype=int32)\n",
      "tf.Tensor(\n",
      "[[0. 4. 2.]\n",
      " [0. 3. 1.]\n",
      " [1. 0. 1.]], shape=(3, 3), dtype=float32)\n",
      "[[0 nan nan]\n",
      " [0 nan nan]\n",
      " [nan 0 nan]]\n"
     ]
    }
   ],
   "source": [
    "tf.print(zz)\n",
    "change = tf.where(zz<0, tf.fill(zz.shape, 0), zz)   # 小于0的数替换为0\n",
    "print(change)\n",
    "change = tf.cast(change, tf.float32)\n",
    "print(change)\n",
    "nan = tf.where(change>0, tf.fill(change.shape, np.nan), change)\n",
    "tf.print(nan)"
   ]
  },
  {
   "cell_type": "code",
   "execution_count": 129,
   "metadata": {},
   "outputs": [
    {
     "name": "stdout",
     "output_type": "stream",
     "text": [
      "[[-3 4 2]\n",
      " [-4 3 1]\n",
      " [1 -4 1]]\n",
      "tf.Tensor(\n",
      "[[0 0]\n",
      " [1 0]\n",
      " [2 1]], shape=(3, 2), dtype=int64)\n"
     ]
    }
   ],
   "source": [
    "tf.print(zz)\n",
    "in1 = tf.where(zz<0)   # 返回所有满足条件的坐标\n",
    "print(in1)"
   ]
  },
  {
   "cell_type": "markdown",
   "metadata": {},
   "source": [
    "# 维度变换\n",
    "tf.reshape 可以改变张量的形状。tf.squeeze 可以减少维度。tf.expand_dims 可以增加维度。tf.transpose 可以交换维度。tf.reshape可以改变张量的形状，但是其本质上不会改变张量元素的存储顺序，所以，该操作实际上非常迅速，并且是可逆的。"
   ]
  },
  {
   "cell_type": "code",
   "execution_count": 133,
   "metadata": {},
   "outputs": [
    {
     "name": "stdout",
     "output_type": "stream",
     "text": [
      "TensorShape([1, 3, 3, 2])\n",
      "[[[[135 178]\n",
      "   [26 116]\n",
      "   [29 224]]\n",
      "\n",
      "  [[179 219]\n",
      "   [153 209]\n",
      "   [111 215]]\n",
      "\n",
      "  [[39 7]\n",
      "   [138 129]\n",
      "   [59 205]]]]\n"
     ]
    }
   ],
   "source": [
    "a = tf.random.uniform(shape=[1,3,3,2],\n",
    "                      minval=0,maxval=255,dtype=tf.int32)\n",
    "tf.print(a.shape)\n",
    "tf.print(a)"
   ]
  },
  {
   "cell_type": "code",
   "execution_count": 134,
   "metadata": {},
   "outputs": [
    {
     "name": "stdout",
     "output_type": "stream",
     "text": [
      "TensorShape([3, 6])\n",
      "[[135 178 26 116 29 224]\n",
      " [179 219 153 209 111 215]\n",
      " [39 7 138 129 59 205]]\n"
     ]
    }
   ],
   "source": [
    "b = tf.reshape(a,[3,6])  # 改变维度\n",
    "tf.print(b.shape)\n",
    "tf.print(b)"
   ]
  },
  {
   "cell_type": "code",
   "execution_count": 137,
   "metadata": {},
   "outputs": [
    {
     "name": "stdout",
     "output_type": "stream",
     "text": [
      "TensorShape([3, 3, 2]) TensorShape([3, 6])\n",
      "[[[135 178]\n",
      "  [26 116]\n",
      "  [29 224]]\n",
      "\n",
      " [[179 219]\n",
      "  [153 209]\n",
      "  [111 215]]\n",
      "\n",
      " [[39 7]\n",
      "  [138 129]\n",
      "  [59 205]]] [[135 178 26 116 29 224]\n",
      " [179 219 153 209 111 215]\n",
      " [39 7 138 129 59 205]]\n"
     ]
    }
   ],
   "source": [
    "s = tf.squeeze(a)   #如果张量在某个维度上只有一个元素，利用tf.squeeze可以消除这个维度。\n",
    "s1 = tf.squeeze(b)   # 故b 不受影响\n",
    "tf.print(s.shape, b.shape)\n",
    "tf.print(s,b)"
   ]
  },
  {
   "cell_type": "code",
   "execution_count": 139,
   "metadata": {},
   "outputs": [
    {
     "data": {
      "text/plain": [
       "<tf.Tensor: id=1094, shape=(1, 3, 3, 2), dtype=int32, numpy=\n",
       "array([[[[135, 178],\n",
       "         [ 26, 116],\n",
       "         [ 29, 224]],\n",
       "\n",
       "        [[179, 219],\n",
       "         [153, 209],\n",
       "         [111, 215]],\n",
       "\n",
       "        [[ 39,   7],\n",
       "         [138, 129],\n",
       "         [ 59, 205]]]])>"
      ]
     },
     "execution_count": 139,
     "metadata": {},
     "output_type": "execute_result"
    }
   ],
   "source": [
    "d = tf.expand_dims(s,axis=0) #在第0维插入长度为1的一个维度\n",
    "d"
   ]
  },
  {
   "cell_type": "markdown",
   "metadata": {},
   "source": [
    "tf.transpose可以交换张量的维度，与tf.reshape不同，它会改变张量元素的存储顺序。\n",
    "\n",
    "tf.transpose常用于图片存储格式的变换上。"
   ]
  },
  {
   "cell_type": "code",
   "execution_count": 140,
   "metadata": {},
   "outputs": [
    {
     "name": "stdout",
     "output_type": "stream",
     "text": [
      "TensorShape([100, 600, 600, 4])\n",
      "TensorShape([4, 600, 600, 100])\n"
     ]
    }
   ],
   "source": [
    "# Batch,Height,Width,Channel\n",
    "a = tf.random.uniform(shape=[100,600,600,4],minval=0,maxval=255,dtype=tf.int32)\n",
    "tf.print(a.shape)\n",
    "\n",
    "# 转换成 Channel,Height,Width,Batch\n",
    "s= tf.transpose(a,perm=[3,1,2,0])\n",
    "tf.print(s.shape)"
   ]
  },
  {
   "cell_type": "markdown",
   "metadata": {},
   "source": [
    "# 合并分割\n",
    "和numpy类似，可以用tf.concat和tf.stack方法对多个张量进行合并，可以用tf.split方法把一个张量分割成多个张量。\n",
    "\n",
    "tf.concat和tf.stack有略微的区别，tf.concat是连接，不会增加维度，而tf.stack是堆叠，会增加维度。"
   ]
  },
  {
   "cell_type": "code",
   "execution_count": 149,
   "metadata": {},
   "outputs": [
    {
     "data": {
      "text/plain": [
       "<tf.Tensor: id=1142, shape=(6, 2), dtype=float32, numpy=\n",
       "array([[ 1.,  2.],\n",
       "       [ 3.,  4.],\n",
       "       [ 5.,  6.],\n",
       "       [ 7.,  8.],\n",
       "       [ 9., 10.],\n",
       "       [11., 12.]], dtype=float32)>"
      ]
     },
     "execution_count": 149,
     "metadata": {},
     "output_type": "execute_result"
    }
   ],
   "source": [
    "a = tf.constant([[1.0,2.0],[3.0,4.0]])\n",
    "b = tf.constant([[5.0,6.0],[7.0,8.0]])\n",
    "c = tf.constant([[9.0,10.0],[11.0,12.0]])\n",
    "\n",
    "d = tf.concat([a,b,c],axis = 0)  # tf.concat是连接，不会增加维度\n",
    "d"
   ]
  },
  {
   "cell_type": "code",
   "execution_count": 150,
   "metadata": {},
   "outputs": [
    {
     "data": {
      "text/plain": [
       "<tf.Tensor: id=1144, shape=(3, 2, 2), dtype=float32, numpy=\n",
       "array([[[ 1.,  2.],\n",
       "        [ 3.,  4.]],\n",
       "\n",
       "       [[ 5.,  6.],\n",
       "        [ 7.,  8.]],\n",
       "\n",
       "       [[ 9., 10.],\n",
       "        [11., 12.]]], dtype=float32)>"
      ]
     },
     "execution_count": 150,
     "metadata": {},
     "output_type": "execute_result"
    }
   ],
   "source": [
    "tf.stack([a,b,c])  # tf.stack是堆叠，会增加维度"
   ]
  },
  {
   "cell_type": "code",
   "execution_count": 151,
   "metadata": {},
   "outputs": [
    {
     "data": {
      "text/plain": [
       "[<tf.Tensor: id=1148, shape=(2, 2), dtype=float32, numpy=\n",
       " array([[1., 2.],\n",
       "        [3., 4.]], dtype=float32)>,\n",
       " <tf.Tensor: id=1149, shape=(2, 2), dtype=float32, numpy=\n",
       " array([[5., 6.],\n",
       "        [7., 8.]], dtype=float32)>,\n",
       " <tf.Tensor: id=1150, shape=(2, 2), dtype=float32, numpy=\n",
       " array([[ 9., 10.],\n",
       "        [11., 12.]], dtype=float32)>]"
      ]
     },
     "execution_count": 151,
     "metadata": {},
     "output_type": "execute_result"
    }
   ],
   "source": [
    "tf.split(d,3,axis = 0)  #指定分割份数，平均分割"
   ]
  },
  {
   "cell_type": "code",
   "execution_count": null,
   "metadata": {},
   "outputs": [],
   "source": []
  }
 ],
 "metadata": {
  "kernelspec": {
   "display_name": "Python 3",
   "language": "python",
   "name": "python3"
  },
  "language_info": {
   "codemirror_mode": {
    "name": "ipython",
    "version": 3
   },
   "file_extension": ".py",
   "mimetype": "text/x-python",
   "name": "python",
   "nbconvert_exporter": "python",
   "pygments_lexer": "ipython3",
   "version": "3.7.7"
  }
 },
 "nbformat": 4,
 "nbformat_minor": 4
}
