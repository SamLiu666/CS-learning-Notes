{
 "cells": [
  {
   "cell_type": "markdown",
   "metadata": {},
   "source": [
    "# 4 TensorFlow的低阶API\n",
    "张量结构操作诸如：张量创建，索引切片，维度变换，合并分割。\n",
    "张量数学运算主要有：标量运算，向量运算，矩阵运算。另外我们会介绍张量运算的广播机制。"
   ]
  },
  {
   "cell_type": "code",
   "execution_count": 2,
   "metadata": {},
   "outputs": [],
   "source": [
    "import tensorflow as tf"
   ]
  },
  {
   "cell_type": "code",
   "execution_count": 3,
   "metadata": {},
   "outputs": [],
   "source": [
    "import numpy as np"
   ]
  },
  {
   "cell_type": "markdown",
   "metadata": {},
   "source": [
    "## 1.创建张量"
   ]
  },
  {
   "cell_type": "code",
   "execution_count": 18,
   "metadata": {},
   "outputs": [],
   "source": [
    "a = tf.constant([1,3,5], dtype = tf.float32)  # 一维常量\n",
    "b = tf.range(1,10, delta=3)  # 一维常量，1-10，每次变化delta值\n",
    "c = tf.linspace(0.0, 2*3.333, 100)  # 一维常量，0-2*3.33 的100个数\n",
    "d = tf.zeros([2,3])   # 两行三列矩阵赋值为0"
   ]
  },
  {
   "cell_type": "code",
   "execution_count": 19,
   "metadata": {},
   "outputs": [
    {
     "name": "stdout",
     "output_type": "stream",
     "text": [
      "tf.Tensor([1. 3. 5.], shape=(3,), dtype=float32)\n",
      "tf.Tensor(1, shape=(), dtype=int32)\n",
      "tf.Tensor([1 4 7], shape=(3,), dtype=int32)\n",
      "tf.Tensor(\n",
      "[0.         0.06733333 0.13466667 0.20199999 0.26933333 0.33666667\n",
      " 0.40399998 0.47133332 0.53866667 0.606      0.67333335 0.7406667\n",
      " 0.80799997 0.8753333  0.94266665 1.01       1.0773333  1.1446667\n",
      " 1.212      1.2793334  1.3466667  1.414      1.4813334  1.5486667\n",
      " 1.6159999  1.6833333  1.7506666  1.818      1.8853333  1.9526666\n",
      " 2.02       2.0873334  2.1546667  2.222      2.2893333  2.3566666\n",
      " 2.424      2.4913332  2.5586667  2.626      2.6933334  2.7606666\n",
      " 2.828      2.8953333  2.9626667  3.03       3.0973334  3.1646667\n",
      " 3.2319999  3.2993333  3.3666666  3.434      3.5013332  3.5686667\n",
      " 3.636      3.7033334  3.7706666  3.838      3.9053333  3.9726667\n",
      " 4.04       4.107333   4.174667   4.242      4.3093333  4.3766665\n",
      " 4.444      4.5113335  4.5786667  4.646      4.713333   4.780667\n",
      " 4.848      4.9153333  4.9826665  5.05       5.1173334  5.1846666\n",
      " 5.252      5.3193336  5.386667   5.454      5.521333   5.5886664\n",
      " 5.656      5.7233334  5.7906666  5.858      5.9253335  5.9926667\n",
      " 6.06       6.127333   6.194667   6.262      6.3293333  6.3966665\n",
      " 6.4639997  6.5313334  6.5986667  6.666     ], shape=(100,), dtype=float32)\n",
      "tf.Tensor(\n",
      "[[0. 0. 0.]\n",
      " [0. 0. 0.]], shape=(2, 3), dtype=float32)\n"
     ]
    }
   ],
   "source": [
    "print(a,tf.rank(a),b,c,d, sep='\\n')"
   ]
  },
  {
   "cell_type": "code",
   "execution_count": 23,
   "metadata": {},
   "outputs": [],
   "source": [
    "e = tf.ones([3,3,3]) # 三行三列三维张量赋值为1\n",
    "f = tf.zeros_like(a,dtype= tf.float32)\n",
    "g = tf.fill([3,2], 2)  # 用2填充三行两列的向量"
   ]
  },
  {
   "cell_type": "code",
   "execution_count": 24,
   "metadata": {},
   "outputs": [
    {
     "name": "stdout",
     "output_type": "stream",
     "text": [
      "tf.Tensor(\n",
      "[[[1. 1. 1.]\n",
      "  [1. 1. 1.]\n",
      "  [1. 1. 1.]]\n",
      "\n",
      " [[1. 1. 1.]\n",
      "  [1. 1. 1.]\n",
      "  [1. 1. 1.]]\n",
      "\n",
      " [[1. 1. 1.]\n",
      "  [1. 1. 1.]\n",
      "  [1. 1. 1.]]], shape=(3, 3, 3), dtype=float32)\n",
      "tf.Tensor([1 4 7], shape=(3,), dtype=int32)\n",
      "tf.Tensor(\n",
      "[[2 2]\n",
      " [2 2]\n",
      " [2 2]], shape=(3, 2), dtype=int32)\n"
     ]
    }
   ],
   "source": [
    "print(e, b, g,sep='\\n')"
   ]
  },
  {
   "cell_type": "code",
   "execution_count": 29,
   "metadata": {},
   "outputs": [
    {
     "name": "stdout",
     "output_type": "stream",
     "text": [
      "tf.Tensor([1.6513085 9.014812  6.309742  4.345461  2.9193902], shape=(5,), dtype=float32)\n"
     ]
    }
   ],
   "source": [
    "# 均匀随机分布\n",
    "tf.random.set_seed(1.0)\n",
    "a = tf.random.uniform([5], minval=0, maxval=10)   # \n",
    "print(a)"
   ]
  },
  {
   "cell_type": "code",
   "execution_count": 32,
   "metadata": {},
   "outputs": [
    {
     "name": "stdout",
     "output_type": "stream",
     "text": [
      "[[-0.457012206 -0.406867266 0.728577793]\n",
      " [-0.892977774 0.312611461 0.994292498]\n",
      " [-1.7842623 -0.522005141 0.98080045]]\r\n"
     ]
    }
   ],
   "source": [
    "# 正态随机分布\n",
    "b = tf.random.normal([3,3], mean = 0.0, stddev=1.0)\n",
    "tf.print(b)"
   ]
  },
  {
   "cell_type": "code",
   "execution_count": 35,
   "metadata": {},
   "outputs": [],
   "source": [
    "# 特殊矩阵\n",
    "E = tf.eye(3,3)  # 单位矩阵\n",
    "dig = tf.linalg.diag([1,2,3,4])   # 对角矩阵"
   ]
  },
  {
   "cell_type": "code",
   "execution_count": 36,
   "metadata": {},
   "outputs": [
    {
     "name": "stdout",
     "output_type": "stream",
     "text": [
      "[[1 0 0]\n",
      " [0 1 0]\n",
      " [0 0 1]]\n",
      "[[1 0 0 0]\n",
      " [0 2 0 0]\n",
      " [0 0 3 0]\n",
      " [0 0 0 4]]\r\n"
     ]
    }
   ],
   "source": [
    "tf.print(E, dig, sep='\\n')"
   ]
  },
  {
   "cell_type": "markdown",
   "metadata": {},
   "source": [
    "# 2.索引切片\n",
    "张量的索引切片方式和numpy几乎是一样的。切片时支持缺省参数和省略号。对于tf.Variable,可以通过索引和切片对部分元素进行修改。\n",
    "对于提取张量的连续子区域，也可以使用tf.slice.此外，对于不规则的切片提取,可以使用tf.gather,tf.gather_nd,tf.boolean_mask。\n",
    "tf.boolean_mask功能最为强大，它可以实现tf.gather,tf.gather_nd的功能，并且tf.boolean_mask还可以实现布尔索引。\n",
    "如果要通过修改张量的某些元素得到新的张量，可以使用tf.where，tf.scatter_nd。"
   ]
  },
  {
   "cell_type": "code",
   "execution_count": 55,
   "metadata": {},
   "outputs": [
    {
     "name": "stdout",
     "output_type": "stream",
     "text": [
      "tf.Tensor(\n",
      "[[2.2029686 6.1106777 5.466985 ]\n",
      " [1.1517873 5.540876  7.738581 ]\n",
      " [2.1730318 4.0205345 6.8673496]\n",
      " [5.2853365 1.9348539 9.198882 ]], shape=(4, 3), dtype=float32)\n",
      "[2.2029686 6.11067772 5.46698523]\n",
      "[5.28533649 1.93485391 9.1988821]\n",
      "tf.Tensor(\n",
      "[[2.2029686 6.1106777 5.466985 ]\n",
      " [1.1517873 5.540876  7.738581 ]\n",
      " [2.1730318 4.0205345 6.8673496]], shape=(3, 3), dtype=float32)\n",
      "[[1.15178728 7.73858118]\n",
      " [2.17303181 6.86734962]\n",
      " [5.28533649 9.1988821]]\n"
     ]
    }
   ],
   "source": [
    "tf.random.set_seed(3)\n",
    "t = tf.random.uniform([4,3], minval=1, maxval = 10, dtype=tf.float32)\n",
    "print(t)\n",
    "tf.print(t[0])  #第0行\n",
    "tf.print(t[-1]) #倒数第一行\n",
    "print(t[0:3, :])\n",
    "tf.print(t[1:4,:4:2])"
   ]
  },
  {
   "cell_type": "code",
   "execution_count": 56,
   "metadata": {},
   "outputs": [
    {
     "name": "stdout",
     "output_type": "stream",
     "text": [
      "[[1 2]\n",
      " [0 0]]\r\n"
     ]
    }
   ],
   "source": [
    "# 索引和切片修改部分元素\n",
    "x = tf.Variable([[1,2],[3,4]],dtype = tf.float32)\n",
    "x[1,:].assign(tf.constant([0.0,0.0]))\n",
    "tf.print(x)"
   ]
  },
  {
   "cell_type": "code",
   "execution_count": 57,
   "metadata": {},
   "outputs": [
    {
     "name": "stdout",
     "output_type": "stream",
     "text": [
      "[[[27 83 99 ... 79 6 97]\n",
      "  [31 93 3 ... 63 31 50]\n",
      "  [44 30 86 ... 57 59 85]\n",
      "  ...\n",
      "  [71 87 84 ... 79 57 62]\n",
      "  [88 35 53 ... 89 94 4]\n",
      "  [69 13 88 ... 48 9 45]]\n",
      "\n",
      " [[73 32 39 ... 74 51 37]\n",
      "  [24 86 21 ... 76 6 11]\n",
      "  [89 13 70 ... 4 78 40]\n",
      "  ...\n",
      "  [95 47 22 ... 60 2 45]\n",
      "  [48 77 29 ... 98 50 28]\n",
      "  [5 93 72 ... 48 59 13]]\n",
      "\n",
      " [[45 68 90 ... 30 71 92]\n",
      "  [19 36 40 ... 23 97 57]\n",
      "  [56 79 23 ... 24 52 42]\n",
      "  ...\n",
      "  [7 73 65 ... 91 68 24]\n",
      "  [30 41 54 ... 13 10 52]\n",
      "  [79 23 91 ... 63 65 79]]\n",
      "\n",
      " [[17 33 36 ... 81 97 93]\n",
      "  [43 26 47 ... 8 35 33]\n",
      "  [71 14 67 ... 46 50 4]\n",
      "  ...\n",
      "  [36 8 37 ... 38 85 24]\n",
      "  [18 8 48 ... 89 99 59]\n",
      "  [17 96 96 ... 40 64 97]]]\r\n"
     ]
    }
   ],
   "source": [
    "# 4个班，30个学生，9门课程\n",
    "scores = tf.random.uniform((4,30,9),minval=0,maxval=100,dtype=tf.int32)\n",
    "tf.print(scores)"
   ]
  },
  {
   "cell_type": "code",
   "execution_count": 58,
   "metadata": {},
   "outputs": [
    {
     "name": "stdout",
     "output_type": "stream",
     "text": [
      "[[[27 83 99 ... 79 6 97]\n",
      "  [20 96 97 ... 95 74 89]\n",
      "  [37 15 28 ... 98 72 64]]\n",
      "\n",
      " [[73 32 39 ... 74 51 37]\n",
      "  [69 24 32 ... 38 34 35]\n",
      "  [52 29 4 ... 88 15 13]]\n",
      "\n",
      " [[45 68 90 ... 30 71 92]\n",
      "  [95 6 34 ... 58 19 82]\n",
      "  [2 2 72 ... 87 77 69]]\n",
      "\n",
      " [[17 33 36 ... 81 97 93]\n",
      "  [28 91 7 ... 57 63 49]\n",
      "  [11 76 54 ... 75 48 96]]]\r\n"
     ]
    }
   ],
   "source": [
    "#抽取每个班级第0个学生，第5个学生，第9个学生的全部成绩\n",
    "p = tf.gather(scores,[0,5,9],axis=1)\n",
    "tf.print(p)"
   ]
  },
  {
   "cell_type": "code",
   "execution_count": 62,
   "metadata": {},
   "outputs": [
    {
     "name": "stdout",
     "output_type": "stream",
     "text": [
      "[[[83]\n",
      "  [96]\n",
      "  [15]]\n",
      "\n",
      " [[32]\n",
      "  [24]\n",
      "  [29]]\n",
      "\n",
      " [[68]\n",
      "  [6]\n",
      "  [2]]\n",
      "\n",
      " [[33]\n",
      "  [91]\n",
      "  [76]]]\n",
      "tf.Tensor(\n",
      "[[[83 99]\n",
      "  [96 97]\n",
      "  [15 28]]\n",
      "\n",
      " [[32 39]\n",
      "  [24 32]\n",
      "  [29  4]]\n",
      "\n",
      " [[68 90]\n",
      "  [ 6 34]\n",
      "  [ 2 72]]\n",
      "\n",
      " [[33 36]\n",
      "  [91  7]\n",
      "  [76 54]]], shape=(4, 3, 2), dtype=int32)\n"
     ]
    }
   ],
   "source": [
    "#抽取每个班级第0个学生，第5个学生，第9个学生的第1门课程，第3门课程，第6门课程成绩\n",
    "q = tf.gather(tf.gather(scores,[0,5,9],axis=1),[1],axis=2)\n",
    "p = tf.gather(tf.gather(scores,[0,5,9],axis=1),[1,2],axis=2)\n",
    "tf.print(q)\n",
    "print(p)"
   ]
  },
  {
   "cell_type": "code",
   "execution_count": 63,
   "metadata": {},
   "outputs": [
    {
     "data": {
      "text/plain": [
       "<tf.Tensor: id=491, shape=(3, 9), dtype=int32, numpy=\n",
       "array([[27, 83, 99,  9, 70, 67, 79,  6, 97],\n",
       "       [57, 19, 83,  8, 34, 61, 10, 91, 11],\n",
       "       [68, 80, 99, 62, 19, 33,  4, 45, 72]])>"
      ]
     },
     "execution_count": 63,
     "metadata": {},
     "output_type": "execute_result"
    }
   ],
   "source": [
    "# 抽取第0个班级第0个学生，第2个班级的第4个学生，第3个班级的第6个学生的全部成绩\n",
    "#indices的长度为采样样本的个数，每个元素为采样位置的坐标\n",
    "s = tf.gather_nd(scores,indices = [(0,0),(2,4),(3,6)])\n",
    "s"
   ]
  },
  {
   "cell_type": "markdown",
   "metadata": {},
   "source": [
    "###  修改张量\n",
    "tf.where可以理解为if的张量版本，此外它还可以用于找到满足条件的所有元素的位置坐标。\n",
    "\n",
    "tf.scatter_nd的作用和tf.gather_nd有些相反，tf.gather_nd用于收集张量的给定位置的元素，\n",
    "\n",
    "而tf.scatter_nd可以将某些值插入到一个给定shape的全0的张量的指定位置处"
   ]
  },
  {
   "cell_type": "code",
   "execution_count": 66,
   "metadata": {},
   "outputs": [
    {
     "name": "stdout",
     "output_type": "stream",
     "text": [
      "tf.Tensor(\n",
      "[[-1.  1. -1.]\n",
      " [ 2.  2. -2.]\n",
      " [ 3. -3.  3.]], shape=(3, 3), dtype=float32) tf.Tensor(\n",
      "[[nan  1. nan]\n",
      " [ 2.  2. nan]\n",
      " [ 3. nan  3.]], shape=(3, 3), dtype=float32)\n"
     ]
    }
   ],
   "source": [
    "c = tf.constant([[-1,1,-1],[2,2,-2],[3,-3,3]],dtype=tf.float32)\n",
    "d = tf.where(c<0, tf.fill(c.shape, np.nan), c)\n",
    "print(c,d)"
   ]
  },
  {
   "cell_type": "code",
   "execution_count": 67,
   "metadata": {},
   "outputs": [
    {
     "data": {
      "text/plain": [
       "<tf.Tensor: id=525, shape=(3, 3), dtype=float32, numpy=\n",
       "array([[ 0.,  1., -1.],\n",
       "       [ 2.,  2., -2.],\n",
       "       [ 3.,  0.,  3.]], dtype=float32)>"
      ]
     },
     "execution_count": 67,
     "metadata": {},
     "output_type": "execute_result"
    }
   ],
   "source": [
    "d = c - tf.scatter_nd([[0,0],[2,1]],[c[0,0],c[2,1]],c.shape)\n",
    "d"
   ]
  },
  {
   "cell_type": "markdown",
   "metadata": {},
   "source": [
    "### 维度变换\n",
    "维度变换相关函数主要有 tf.reshape, tf.squeeze, tf.expand_dims, tf.transpose.\n",
    "\n",
    "tf.reshape 可以改变张量的形状。\n",
    "\n",
    "tf.squeeze 可以减少维度。\n",
    "\n",
    "tf.expand_dims 可以增加维度。\n",
    "\n",
    "tf.transpose 可以交换维度。"
   ]
  },
  {
   "cell_type": "code",
   "execution_count": 74,
   "metadata": {
    "scrolled": true
   },
   "outputs": [
    {
     "name": "stdout",
     "output_type": "stream",
     "text": [
      "tf.Tensor(\n",
      "[[[[200 180]\n",
      "   [172 250]\n",
      "   [ 40 212]]\n",
      "\n",
      "  [[133 222]\n",
      "   [157 225]\n",
      "   [110  48]]\n",
      "\n",
      "  [[233 126]\n",
      "   [251  60]\n",
      "   [186   8]]]], shape=(1, 3, 3, 2), dtype=int32)\n",
      "[[200 180 172 250 40 212]\n",
      " [133 222 157 225 110 48]\n",
      " [233 126 251 60 186 8]]\r\n"
     ]
    }
   ],
   "source": [
    "z = tf.random.uniform(shape=[1,3,3,2], minval=0,maxval=255,dtype=tf.int32)\n",
    "print(z)\n",
    "b = tf.reshape(z, [3,6])\n",
    "tf.print(b)"
   ]
  },
  {
   "cell_type": "code",
   "execution_count": 75,
   "metadata": {},
   "outputs": [
    {
     "data": {
      "text/plain": [
       "<tf.Tensor: id=566, shape=(3, 3, 2), dtype=int32, numpy=\n",
       "array([[[200, 180],\n",
       "        [172, 250],\n",
       "        [ 40, 212]],\n",
       "\n",
       "       [[133, 222],\n",
       "        [157, 225],\n",
       "        [110,  48]],\n",
       "\n",
       "       [[233, 126],\n",
       "        [251,  60],\n",
       "        [186,   8]]])>"
      ]
     },
     "execution_count": 75,
     "metadata": {},
     "output_type": "execute_result"
    }
   ],
   "source": [
    "s = tf.squeeze(z)  # 消除一个维度\n",
    "s"
   ]
  },
  {
   "cell_type": "code",
   "execution_count": 76,
   "metadata": {},
   "outputs": [
    {
     "data": {
      "text/plain": [
       "<tf.Tensor: id=569, shape=(1, 3, 3, 2), dtype=int32, numpy=\n",
       "array([[[[200, 180],\n",
       "         [172, 250],\n",
       "         [ 40, 212]],\n",
       "\n",
       "        [[133, 222],\n",
       "         [157, 225],\n",
       "         [110,  48]],\n",
       "\n",
       "        [[233, 126],\n",
       "         [251,  60],\n",
       "         [186,   8]]]])>"
      ]
     },
     "execution_count": 76,
     "metadata": {},
     "output_type": "execute_result"
    }
   ],
   "source": [
    "d = tf.expand_dims(s,axis=0) #在第0维插入长度为1的一个维度\n",
    "d"
   ]
  },
  {
   "cell_type": "code",
   "execution_count": 77,
   "metadata": {},
   "outputs": [
    {
     "name": "stdout",
     "output_type": "stream",
     "text": [
      "TensorShape([100, 600, 600, 4])\n",
      "TensorShape([4, 600, 600, 100])\n"
     ]
    }
   ],
   "source": [
    "# Batch,Height,Width,Channel\n",
    "a = tf.random.uniform(shape=[100,600,600,4],minval=0,maxval=255,dtype=tf.int32)\n",
    "tf.print(a.shape)\n",
    "\n",
    "# 转换成 Channel,Height,Width,Batch\n",
    "s= tf.transpose(a,perm=[3,1,2,0])\n",
    "tf.print(s.shape)"
   ]
  },
  {
   "cell_type": "markdown",
   "metadata": {},
   "source": [
    "### 合并分割"
   ]
  },
  {
   "cell_type": "code",
   "execution_count": 78,
   "metadata": {},
   "outputs": [
    {
     "data": {
      "text/plain": [
       "<tf.Tensor: id=583, shape=(6, 2), dtype=float32, numpy=\n",
       "array([[ 1.,  2.],\n",
       "       [ 3.,  4.],\n",
       "       [ 5.,  6.],\n",
       "       [ 7.,  8.],\n",
       "       [ 9., 10.],\n",
       "       [11., 12.]], dtype=float32)>"
      ]
     },
     "execution_count": 78,
     "metadata": {},
     "output_type": "execute_result"
    }
   ],
   "source": [
    "a = tf.constant([[1.0,2.0],[3.0,4.0]])\n",
    "b = tf.constant([[5.0,6.0],[7.0,8.0]])\n",
    "c = tf.constant([[9.0,10.0],[11.0,12.0]])\n",
    "\n",
    "tf.concat([a,b,c],axis = 0)  # 连接向量"
   ]
  },
  {
   "cell_type": "code",
   "execution_count": 79,
   "metadata": {},
   "outputs": [
    {
     "data": {
      "text/plain": [
       "<tf.Tensor: id=586, shape=(2, 6), dtype=float32, numpy=\n",
       "array([[ 1.,  2.,  5.,  6.,  9., 10.],\n",
       "       [ 3.,  4.,  7.,  8., 11., 12.]], dtype=float32)>"
      ]
     },
     "execution_count": 79,
     "metadata": {},
     "output_type": "execute_result"
    }
   ],
   "source": [
    "tf.concat([a,b,c],axis = 1)"
   ]
  },
  {
   "cell_type": "code",
   "execution_count": 80,
   "metadata": {},
   "outputs": [
    {
     "data": {
      "text/plain": [
       "<tf.Tensor: id=588, shape=(3, 2, 2), dtype=float32, numpy=\n",
       "array([[[ 1.,  2.],\n",
       "        [ 3.,  4.]],\n",
       "\n",
       "       [[ 5.,  6.],\n",
       "        [ 7.,  8.]],\n",
       "\n",
       "       [[ 9., 10.],\n",
       "        [11., 12.]]], dtype=float32)>"
      ]
     },
     "execution_count": 80,
     "metadata": {},
     "output_type": "execute_result"
    }
   ],
   "source": [
    "tf.stack([a,b,c])  # 张量堆叠"
   ]
  },
  {
   "cell_type": "code",
   "execution_count": null,
   "metadata": {},
   "outputs": [],
   "source": []
  }
 ],
 "metadata": {
  "kernelspec": {
   "display_name": "Python 3",
   "language": "python",
   "name": "python3"
  },
  "language_info": {
   "codemirror_mode": {
    "name": "ipython",
    "version": 3
   },
   "file_extension": ".py",
   "mimetype": "text/x-python",
   "name": "python",
   "nbconvert_exporter": "python",
   "pygments_lexer": "ipython3",
   "version": "3.7.7"
  }
 },
 "nbformat": 4,
 "nbformat_minor": 4
}
