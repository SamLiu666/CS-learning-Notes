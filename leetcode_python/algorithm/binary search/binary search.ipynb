{
 "cells": [
  {
   "cell_type": "markdown",
   "metadata": {},
   "source": [
    "# 1 Binary Search Template I\n",
    "\n",
    "Initial Condition: left = 0, right = length-1\n",
    "\n",
    "Termination: left > right\n",
    "\n",
    "Searching Left: right = mid-1\n",
    "\n",
    "Searching Right: left = mid+1"
   ]
  },
  {
   "cell_type": "code",
   "execution_count": 1,
   "metadata": {},
   "outputs": [],
   "source": [
    "def bs1(nums, target):\n",
    "    if len(nums)==0:\n",
    "        return -1\n",
    "    \n",
    "    left, right = 0, len(nums)-1\n",
    "    \n",
    "    while left<=right:\n",
    "        mid = (left+right)//2\n",
    "        \n",
    "        if nums[mid] > target:\n",
    "            right = mid -1 \n",
    "        if nums[mid] < target:\n",
    "            left = mid + 1\n",
    "            \n",
    "        else:\n",
    "            return mid\n",
    "    return -1"
   ]
  },
  {
   "cell_type": "markdown",
   "metadata": {},
   "source": [
    "# 2 Binary Search Template II\n",
    "Initial Condition: left = 0, right = length\n",
    "\n",
    "Termination: left == right\n",
    "\n",
    "Searching Left: right = mid\n",
    "\n",
    "Searching Right: left = mid+1\n",
    "\n",
    "它用于搜索需要访问数组中当前索引及其直接右邻居索引的元素或条件。"
   ]
  },
  {
   "cell_type": "code",
   "execution_count": 2,
   "metadata": {},
   "outputs": [],
   "source": [
    "def bs2(nums, target):\n",
    "    if len(nums) == 0:\n",
    "        return -1\n",
    "    \n",
    "    l,r = 0, len(nums)\n",
    "    \n",
    "    while l < r:\n",
    "        mid = (l+r)//2\n",
    "        \n",
    "        if nums[mid] ==  target:\n",
    "            return mid\n",
    "        \n",
    "        elif nums[mid] < target:\n",
    "            l = mid + 1\n",
    "        else:\n",
    "            r = mid\n",
    "\n",
    "    # Post-processing:\n",
    "    # End Condition: left == right\n",
    "    if l != len(nums) and nums[left] == target:\n",
    "        return left\n",
    "    \n",
    "    return -1"
   ]
  },
  {
   "cell_type": "code",
   "execution_count": 6,
   "metadata": {},
   "outputs": [
    {
     "data": {
      "text/plain": [
       "[-inf, 1, 2, 3, -inf]"
      ]
     },
     "execution_count": 6,
     "metadata": {},
     "output_type": "execute_result"
    }
   ],
   "source": [
    "a = [1,2,3]\n",
    "b = float(\"-inf\")\n",
    "a.append(b)\n",
    "a.insert(0, b)\n",
    "a"
   ]
  },
  {
   "cell_type": "code",
   "execution_count": null,
   "metadata": {},
   "outputs": [],
   "source": []
  }
 ],
 "metadata": {
  "kernelspec": {
   "display_name": "Python 3",
   "language": "python",
   "name": "python3"
  },
  "language_info": {
   "codemirror_mode": {
    "name": "ipython",
    "version": 3
   },
   "file_extension": ".py",
   "mimetype": "text/x-python",
   "name": "python",
   "nbconvert_exporter": "python",
   "pygments_lexer": "ipython3",
   "version": "3.7.3"
  }
 },
 "nbformat": 4,
 "nbformat_minor": 2
}
