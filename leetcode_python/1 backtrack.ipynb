{
 "cells": [
  {
   "cell_type": "markdown",
   "metadata": {},
   "source": [
    "    >>> generate_all_combinations(n=4, k=2)\n",
    "    [[1, 2], [1, 3], [1, 4], [2, 3], [2, 4], [3, 4]]"
   ]
  },
  {
   "cell_type": "code",
   "execution_count": 1,
   "metadata": {},
   "outputs": [],
   "source": [
    "def combine(n:int, k:int)->[[int]]:\n",
    "    result = []\n",
    "    helper(1,n,k,[], result)\n",
    "    return result\n",
    "\n",
    "def helper(start, n, k, current, result):\n",
    "    if k==0:\n",
    "        result.append(current[:])\n",
    "        return\n",
    "    \n",
    "    for i in range(start, n-k+2):\n",
    "        current.append(i)\n",
    "        helper(i+1, n, k-1, current, result)\n",
    "        current.pop()\n",
    "        \n",
    "def print_all_state(total_list):\n",
    "    for i in total_list:\n",
    "        print(*i)"
   ]
  },
  {
   "cell_type": "code",
   "execution_count": 4,
   "metadata": {},
   "outputs": [
    {
     "name": "stdout",
     "output_type": "stream",
     "text": [
      "1 2\n",
      "1 3\n",
      "1 4\n",
      "2 3\n",
      "2 4\n",
      "3 4\n"
     ]
    }
   ],
   "source": [
    "n = 4\n",
    "k = 2\n",
    "total_list = combine(n, k)\n",
    "print_all_state(total_list)"
   ]
  },
  {
   "cell_type": "code",
   "execution_count": 9,
   "metadata": {},
   "outputs": [
    {
     "name": "stdout",
     "output_type": "stream",
     "text": [
      "['A', 'B', 'C']\n",
      "['A', 'C', 'B']\n",
      "['B', 'A', 'C']\n",
      "['B', 'C', 'A']\n",
      "['C', 'A', 'B']\n",
      "['C', 'B', 'A']\n"
     ]
    },
    {
     "data": {
      "text/plain": [
       "[[], [], [], [], [], []]"
      ]
     },
     "execution_count": 9,
     "metadata": {},
     "output_type": "execute_result"
    }
   ],
   "source": [
    "def permutation(sequence):\n",
    "    result = []\n",
    "    helper(sequence, [], 0, [0 for i in range(len(sequence))], result)\n",
    "    return result\n",
    "    \n",
    "def helper(s, current, index, index_used, result):\n",
    "    if index == len(s):\n",
    "        print(current)\n",
    "        result.append(current)\n",
    "        return \n",
    "    \n",
    "    for i in range(len(s)):\n",
    "        if not index_used[i]:\n",
    "            current.append(s[i])\n",
    "            index_used[i] = True\n",
    "            helper(s, current, index+1, index_used, result)\n",
    "            current.pop()\n",
    "            index_used[i] = False\n",
    "\n",
    "sequence = [\"A\", \"B\", \"C\"]\n",
    "permutation(sequence)"
   ]
  },
  {
   "cell_type": "code",
   "execution_count": null,
   "metadata": {},
   "outputs": [],
   "source": []
  }
 ],
 "metadata": {
  "kernelspec": {
   "display_name": "Python 3",
   "language": "python",
   "name": "python3"
  },
  "language_info": {
   "codemirror_mode": {
    "name": "ipython",
    "version": 3
   },
   "file_extension": ".py",
   "mimetype": "text/x-python",
   "name": "python",
   "nbconvert_exporter": "python",
   "pygments_lexer": "ipython3",
   "version": "3.7.3"
  }
 },
 "nbformat": 4,
 "nbformat_minor": 2
}
