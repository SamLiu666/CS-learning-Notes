{
 "cells": [
  {
   "cell_type": "markdown",
   "metadata": {},
   "source": [
    "# 1 a_star"
   ]
  },
  {
   "cell_type": "code",
   "execution_count": 21,
   "metadata": {},
   "outputs": [],
   "source": [
    "# grid = [\n",
    "#     [0, 1, 0, 0, 0, 0],\n",
    "#     [0, 1, 0, 0, 0, 0],  # 0 are free path whereas 1's are obstacles\n",
    "#     [0, 1, 0, 0, 0, 0],\n",
    "#     [0, 1, 0, 0, 1, 0],\n",
    "#     [0, 0, 0, 0, 1, 0],\n",
    "# ]\n",
    "\"\"\"\n",
    "heuristic = [[9, 8, 7, 6, 5, 4],\n",
    "             [8, 7, 6, 5, 4, 3],\n",
    "             [7, 6, 5, 4, 3, 2],\n",
    "             [6, 5, 4, 3, 2, 1],\n",
    "             [5, 4, 3, 2, 1, 0]]\"\"\"\n",
    "grid = [\n",
    "    [0, 1, 0, 1, 0, 0],\n",
    "    [0, 1, 0, 0, 0, 0],  # 0 are free path whereas 1's are obstacles\n",
    "    [0, 1, 0, 1, 1, 0],\n",
    "    [0, 1, 0, 0, 1, 0],\n",
    "    [0, 0, 0, 0, 1, 0],\n",
    "]"
   ]
  },
  {
   "cell_type": "code",
   "execution_count": 22,
   "metadata": {},
   "outputs": [],
   "source": [
    "init = [0, 0]  # start point\n",
    "goal = [len(grid)-1, len(grid[0])-1]  # goal point\n",
    "cost = 1\n",
    "\n",
    "#\n",
    "heuristic = [[0 for col in range(len(grid[0]))] for row in range(len(grid))]\n",
    "for i in range(len(grid)):\n",
    "    for j in range(len(grid[0])):\n",
    "        # 使用编辑距离作为启发式函数的距离\n",
    "        heuristic[i][j] = abs(i-goal[0]) + abs(j-goal[1])\n",
    "        if grid[i][j]==1:\n",
    "            heuristic[i][j]=99 # 此路不通"
   ]
  },
  {
   "cell_type": "code",
   "execution_count": 23,
   "metadata": {},
   "outputs": [
    {
     "data": {
      "text/plain": [
       "([[9, 99, 7, 99, 5, 4],\n",
       "  [8, 99, 6, 5, 4, 3],\n",
       "  [7, 99, 5, 99, 99, 2],\n",
       "  [6, 99, 4, 3, 99, 1],\n",
       "  [5, 4, 3, 2, 99, 0]],\n",
       " 5)"
      ]
     },
     "execution_count": 23,
     "metadata": {},
     "output_type": "execute_result"
    }
   ],
   "source": [
    "heuristic,len(grid)"
   ]
  },
  {
   "cell_type": "code",
   "execution_count": 28,
   "metadata": {},
   "outputs": [],
   "source": [
    "# action, up    left    down  right\n",
    "delta = [[-1,0],[0,-1],[1,0],[0,1]]\n",
    "\n",
    "# function to search path\n",
    "def search(grid, init, goal, cost, heuristic):\n",
    "    # visited point\n",
    "    closed = [\n",
    "        [0 for col in range(len(grid[0]))] for row in range(len(grid))\n",
    "    ]\n",
    "    \n",
    "    closed[init[0]][init[1]]=1\n",
    "    \n",
    "    # action grid\n",
    "    action = [\n",
    "        [0 for col in range(len(grid[0]))] for row in range(len(grid))\n",
    "    ]\n",
    "    \n",
    "    x = init[0]\n",
    "    y = init[1]\n",
    "    g = 0\n",
    "    f = g + heuristic[init[0]][init[1]]\n",
    "    cell = [[f,g,x,y]]\n",
    "    \n",
    "    found = False # flag that is set when search is complete\n",
    "    resign = False # flag set if we can't find expand\n",
    "    \n",
    "    while not found and not resign:\n",
    "        if len(cell)==0:\n",
    "            return \"FAIL\"\n",
    "        else:\n",
    "            # to choose the least costliest action so as to move closer to the goal\n",
    "            cell.sort()\n",
    "            cell.reverse()\n",
    "            next =cell.pop()\n",
    "            x = next[2]\n",
    "            y = next[3]\n",
    "            g = next[1]\n",
    "            \n",
    "        if x==goal[0] and y==goal[1]:\n",
    "            found=True\n",
    "        else:\n",
    "            for i in range(len(delta)):\n",
    "                x2 = x + delta[i][0]\n",
    "                y2 = y + delta[i][1]\n",
    "                \n",
    "                if x2 >= 0 and x2 < len(grid) and y2 >= 0 and y2 < len(grid[0]):\n",
    "                    if closed[x2][y2] == 0 and grid[x2][y2] == 0:\n",
    "                        g2 = g + cost\n",
    "                        f2 = g2 + heuristic[x2][y2]\n",
    "                        cell.append([f2, g2, x2, y2])\n",
    "                        closed[x2][y2] = 1\n",
    "                        action[x2][y2] = i\n",
    "    invpath = []\n",
    "    x = goal[0]\n",
    "    y = goal[1]\n",
    "    invpath.append([x, y])  # we get the reverse path from here\n",
    "    while x != init[0] or y != init[1]:\n",
    "        x2 = x - delta[action[x][y]][0]\n",
    "        y2 = y - delta[action[x][y]][1]\n",
    "        x = x2\n",
    "        y = y2\n",
    "        invpath.append([x, y])\n",
    "        \n",
    "    path = []\n",
    "    for i in range(len(invpath)):\n",
    "        path.append(invpath[len(invpath) - 1 - i])\n",
    "        \n",
    "    print(\"ACTION MAP\")\n",
    "    for i in range(len(action)):\n",
    "        print(action[i])\n",
    "    return path"
   ]
  },
  {
   "cell_type": "code",
   "execution_count": 29,
   "metadata": {},
   "outputs": [
    {
     "name": "stdout",
     "output_type": "stream",
     "text": [
      "ACTION MAP\n",
      "[0, 0, 0, 0, 0, 0]\n",
      "[2, 0, 0, 3, 3, 3]\n",
      "[2, 0, 0, 0, 0, 2]\n",
      "[2, 0, 0, 0, 0, 2]\n",
      "[2, 3, 3, 3, 0, 2]\n"
     ]
    }
   ],
   "source": [
    "a = search(grid, init, goal, cost, heuristic)\n"
   ]
  },
  {
   "cell_type": "code",
   "execution_count": 30,
   "metadata": {},
   "outputs": [
    {
     "data": {
      "text/plain": [
       "[[0, 0],\n",
       " [1, 0],\n",
       " [2, 0],\n",
       " [3, 0],\n",
       " [4, 0],\n",
       " [4, 1],\n",
       " [4, 2],\n",
       " [3, 2],\n",
       " [2, 2],\n",
       " [1, 2],\n",
       " [1, 3],\n",
       " [1, 4],\n",
       " [1, 5],\n",
       " [2, 5],\n",
       " [3, 5],\n",
       " [4, 5]]"
      ]
     },
     "execution_count": 30,
     "metadata": {},
     "output_type": "execute_result"
    }
   ],
   "source": [
    "a"
   ]
  },
  {
   "cell_type": "code",
   "execution_count": null,
   "metadata": {},
   "outputs": [],
   "source": []
  }
 ],
 "metadata": {
  "kernelspec": {
   "display_name": "Python 3",
   "language": "python",
   "name": "python3"
  },
  "language_info": {
   "codemirror_mode": {
    "name": "ipython",
    "version": 3
   },
   "file_extension": ".py",
   "mimetype": "text/x-python",
   "name": "python",
   "nbconvert_exporter": "python",
   "pygments_lexer": "ipython3",
   "version": "3.7.3"
  }
 },
 "nbformat": 4,
 "nbformat_minor": 2
}
