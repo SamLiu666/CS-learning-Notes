{
 "cells": [
  {
   "cell_type": "markdown",
   "metadata": {},
   "source": [
    "# 1. 组合问题 \n",
    "\n",
    "Time complexity: $$(n choose k) = \\frac{O((n!)}{(k! * (n - k)!)))}$$"
   ]
  },
  {
   "cell_type": "code",
   "execution_count": 6,
   "metadata": {},
   "outputs": [
    {
     "name": "stdout",
     "output_type": "stream",
     "text": [
      "[1, 2]\n",
      "[1, 3]\n",
      "[1, 4]\n",
      "[2, 3]\n",
      "[2, 4]\n",
      "[3, 4]\n",
      "6\n"
     ]
    }
   ],
   "source": [
    "def combination(n:int, k:int)->[[int]]:\n",
    "    \"\"\"\n",
    "    >>> combination(n=4, k=2)\n",
    "    [[1, 2], [1, 3], [1, 4], [2, 3], [2, 4], [3, 4]]\n",
    "    \"\"\"\n",
    "    result = []\n",
    "    helper(1, n, k, [], result)\n",
    "    return result\n",
    "\n",
    "def helper(start, end, k, current, result):\n",
    "    if k==0:\n",
    "        result.append(current[:])\n",
    "        return\n",
    "    \n",
    "    for i in range(start, end-k+2):\n",
    "        current.append(i)\n",
    "        helper(i+1, end, k-1, current, result)\n",
    "        current.pop()\n",
    "\n",
    "def test(n=4, k=2):\n",
    "    a = n\n",
    "    b = k\n",
    "    ans = combination(n, k)\n",
    "    for i in ans:\n",
    "        print(i)\n",
    "    print(len(ans))\n",
    "\n",
    "test()"
   ]
  },
  {
   "cell_type": "markdown",
   "metadata": {},
   "source": [
    "# 2. 排列问题\n",
    "\n",
    "Time complexity: $$O(n! * n)$$"
   ]
  },
  {
   "cell_type": "code",
   "execution_count": 21,
   "metadata": {},
   "outputs": [
    {
     "name": "stdout",
     "output_type": "stream",
     "text": [
      "['A', 'B', 'C']\n",
      "['A', 'C', 'B']\n",
      "['B', 'A', 'C']\n",
      "['B', 'C', 'A']\n",
      "['C', 'A', 'B']\n",
      "['C', 'B', 'A']\n",
      "6\n"
     ]
    }
   ],
   "source": [
    "def permutations(sequence:list):\n",
    "    index_used = [0 for _ in range(len(sequence))]\n",
    "    result = []\n",
    "    current = []\n",
    "    helper(sequence, 0, index_used, current, result)\n",
    "    return result\n",
    "    \n",
    "def helper(sequence, index, index_used, current, results):\n",
    "    if index == len(sequence):\n",
    "        print(current)\n",
    "        results.append(current[:])\n",
    "        return\n",
    "\n",
    "    for i in range(len(sequence)):\n",
    "        if not index_used[i]:\n",
    "            current.append(sequence[i])\n",
    "            index_used[i] = True\n",
    "            helper(sequence, index+1, index_used, current, results)\n",
    "            current.pop()\n",
    "            index_used[i] = False\n",
    "            \n",
    "sequence = [\"A\", \"B\", \"C\"]\n",
    "\n",
    "# sequence = [3, 1, 2]\n",
    "ans = permutations(sequence)\n",
    "print(len(ans))"
   ]
  },
  {
   "cell_type": "markdown",
   "metadata": {},
   "source": [
    "# 3. 子集\n",
    "\n",
    "Time complexity: O(2^n) --- n 是序列长度"
   ]
  },
  {
   "cell_type": "code",
   "execution_count": 23,
   "metadata": {},
   "outputs": [
    {
     "name": "stdout",
     "output_type": "stream",
     "text": [
      "[]\n",
      "['C']\n",
      "['B']\n",
      "['B', 'C']\n",
      "['A']\n",
      "['A', 'C']\n",
      "['A', 'B']\n",
      "['A', 'B', 'C']\n"
     ]
    }
   ],
   "source": [
    "def subsequence(sequence):\n",
    "    helper(sequence, [], 0)\n",
    "\n",
    "\n",
    "def helper(sequence, current_subsequence, index):\n",
    "    \n",
    "    if index == len(sequence):\n",
    "        print(current_subsequence)\n",
    "        return\n",
    "\n",
    "    helper(sequence, current_subsequence, index + 1)\n",
    "    current_subsequence.append(sequence[index])\n",
    "    helper(sequence, current_subsequence, index + 1)\n",
    "    current_subsequence.pop()\n",
    "\n",
    "\n",
    "\"\"\"\n",
    "remove the comment to take an input from the user\n",
    "\n",
    "print(\"Enter the elements\")\n",
    "sequence = list(map(int, input().split()))\n",
    "# \"\"\"\n",
    "\n",
    "# sequence = [3, 1, 2, 4]\n",
    "# generate_all_subsequences(sequence)\n",
    "\n",
    "sequence = [\"A\", \"B\", \"C\"]\n",
    "generate_all_subsequences(sequence)\n",
    "    "
   ]
  },
  {
   "cell_type": "markdown",
   "metadata": {},
   "source": [
    "4. 数独"
   ]
  },
  {
   "cell_type": "code",
   "execution_count": 12,
   "metadata": {},
   "outputs": [],
   "source": [
    "def sudo(grid):\n",
    "    \"\"\"\n",
    "    数独矩阵作为输入\n",
    "    返回：具体的解或无解\n",
    "    \"\"\"\n",
    "    if is_completed(grid):\n",
    "        return grid\n",
    "    \n",
    "    # 找到数独中的空位置\n",
    "    row, col = find_empty_location(grid)\n",
    "    \n",
    "    # 对空位置填数，1-9\n",
    "    for x in range(1,10):\n",
    "        if helper(grid, row, col, x):\n",
    "            # helper 函数判断此处位置是否可以填入数字\n",
    "            grid[row][col] = x\n",
    "            \n",
    "            if sudo(grid):\n",
    "                # 如填完，则返回正确解法\n",
    "                return grid\n",
    "            \n",
    "            # 此处位置此数不行，回退上一步，重新填数\n",
    "            grid[row][col] = 0\n",
    "            \n",
    "    return False\n",
    "\n",
    "def find_empty_location(grid):\n",
    "    # 找到 问题中第一个可以填的位置，并返回坐标\n",
    "    for i in range(9):\n",
    "        for j in range(9):\n",
    "            if grid[i][j]==0:\n",
    "                return i,j\n",
    "            \n",
    "def helper(grid, row, col, x):\n",
    "    # 判断填的数正确与否\n",
    "    \n",
    "    # 1. 每一行，每一列数字不同\n",
    "    for i in range(9):\n",
    "        if grid[row][i] == x or grid[i][col] == x:\n",
    "            return False\n",
    "    \n",
    "    # 2. 判断小九宫格中的数字是否相同\n",
    "    for i in range(3):\n",
    "        for j in range(3):\n",
    "            if grid[(row -row%3)+i][(col-col%3)+j] == x:\n",
    "                return False\n",
    "    return True\n",
    "\n",
    "def is_completed(grid):\n",
    "    return all(all(x!=0 for x in row) for row in grid)\n",
    "\n",
    "def print_sudo(grid):\n",
    "    for row in grid:\n",
    "        for x in row:\n",
    "            print(x, end=\" \")\n",
    "        print()"
   ]
  },
  {
   "cell_type": "code",
   "execution_count": 14,
   "metadata": {},
   "outputs": [
    {
     "name": "stdout",
     "output_type": "stream",
     "text": [
      "grid after solving:\n",
      "3 1 6 5 7 8 4 9 2 \n",
      "5 2 9 1 3 4 7 6 8 \n",
      "4 8 7 6 2 9 5 3 1 \n",
      "2 6 3 4 1 5 9 8 7 \n",
      "9 7 4 8 6 3 1 2 5 \n",
      "8 5 1 7 9 2 6 4 3 \n",
      "1 3 8 9 4 7 2 5 6 \n",
      "6 9 2 3 5 1 8 7 4 \n",
      "7 4 5 2 8 6 3 1 9 \n",
      "Cannot find a solution.\n"
     ]
    }
   ],
   "source": [
    "# assigning initial values to the grid\n",
    "initial_grid = [\n",
    "    [3, 0, 6, 5, 0, 8, 4, 0, 0],\n",
    "    [5, 2, 0, 0, 0, 0, 0, 0, 0],\n",
    "    [0, 8, 7, 0, 0, 0, 0, 3, 1],\n",
    "    [0, 0, 3, 0, 1, 0, 0, 8, 0],\n",
    "    [9, 0, 0, 8, 6, 3, 0, 0, 5],\n",
    "    [0, 5, 0, 0, 9, 0, 6, 0, 0],\n",
    "    [1, 3, 0, 0, 0, 0, 2, 5, 0],\n",
    "    [0, 0, 0, 0, 0, 0, 0, 7, 4],\n",
    "    [0, 0, 5, 2, 0, 6, 3, 0, 0],\n",
    "]\n",
    "\n",
    "# a grid with no solution\n",
    "no_solution = [\n",
    "    [5, 0, 6, 5, 0, 8, 4, 0, 3],\n",
    "    [5, 2, 0, 0, 0, 0, 0, 0, 2],\n",
    "    [1, 8, 7, 0, 0, 0, 0, 3, 1],\n",
    "    [0, 0, 3, 0, 1, 0, 0, 8, 0],\n",
    "    [9, 0, 0, 8, 6, 3, 0, 0, 5],\n",
    "    [0, 5, 0, 0, 9, 0, 6, 0, 0],\n",
    "    [1, 3, 0, 0, 0, 0, 2, 5, 0],\n",
    "    [0, 0, 0, 0, 0, 0, 0, 7, 4],\n",
    "    [0, 0, 5, 2, 0, 6, 3, 0, 0],\n",
    "]\n",
    "\n",
    "for grid in (initial_grid, no_solution):\n",
    "    grid = list(map(list, grid))\n",
    "    solution = sudo(grid)\n",
    "    if solution:\n",
    "        print(\"grid after solving:\")\n",
    "        print_sudo(solution)\n",
    "    else:\n",
    "        print(\"Cannot find a solution.\")"
   ]
  },
  {
   "cell_type": "code",
   "execution_count": null,
   "metadata": {},
   "outputs": [],
   "source": []
  },
  {
   "cell_type": "code",
   "execution_count": null,
   "metadata": {},
   "outputs": [],
   "source": []
  }
 ],
 "metadata": {
  "kernelspec": {
   "display_name": "Python 3",
   "language": "python",
   "name": "python3"
  },
  "language_info": {
   "codemirror_mode": {
    "name": "ipython",
    "version": 3
   },
   "file_extension": ".py",
   "mimetype": "text/x-python",
   "name": "python",
   "nbconvert_exporter": "python",
   "pygments_lexer": "ipython3",
   "version": "3.7.3"
  }
 },
 "nbformat": 4,
 "nbformat_minor": 2
}
