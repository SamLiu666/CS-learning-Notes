{
 "cells": [
  {
   "cell_type": "code",
   "execution_count": 3,
   "metadata": {},
   "outputs": [],
   "source": [
    "def euclidean_distance_sqr(point1, point2):\n",
    "    \"\"\"\n",
    "    >>> euclidean_distance_sqr([1,2],[2,4])\n",
    "    5\n",
    "    \"\"\"\n",
    "    return (point1[0] - point2[0]) ** 2 + (point1[1] - point2[1]) ** 2\n",
    "\n",
    "def column_based_sort(array, column=0):\n",
    "    \"\"\"\n",
    "    >>> column_based_sort([(5, 1), (4, 2), (3, 0)], 1)\n",
    "    [(3, 0), (5, 1), (4, 2)]\n",
    "    \"\"\"\n",
    "    return sorted(array, key=lambda x: x[column])\n",
    "\n",
    "def dis_between_closest_pair(points, points_counts, min_dis=float(\"inf\")):\n",
    "    \"\"\"\n",
    "    brute force approach to find distance between closest pair points\n",
    "\n",
    "    Parameters :\n",
    "    points, points_count, min_dis (list(tuple(int, int)), int, int)\n",
    "\n",
    "    Returns :\n",
    "    min_dis (float):  distance between closest pair of points\n",
    "\n",
    "    >>> dis_between_closest_pair([[1,2],[2,4],[5,7],[8,9],[11,0]],5)\n",
    "    5\n",
    "\n",
    "    \"\"\"\n",
    "\n",
    "    for i in range(points_counts - 1):\n",
    "        for j in range(i + 1, points_counts):\n",
    "            current_dis = euclidean_distance_sqr(points[i], points[j])\n",
    "            if current_dis < min_dis:\n",
    "                min_dis = current_dis\n",
    "    return min_dis"
   ]
  },
  {
   "cell_type": "code",
   "execution_count": 5,
   "metadata": {},
   "outputs": [
    {
     "data": {
      "text/plain": [
       "[(3, 0), (4, 2), (5, 1)]"
      ]
     },
     "execution_count": 5,
     "metadata": {},
     "output_type": "execute_result"
    }
   ],
   "source": [
    "def dis_between_closest_pair(points, points_counts, min_dis=float(\"inf\")):\n",
    "    \"\"\"\n",
    "    brute force approach to find distance between closest pair points\n",
    "\n",
    "    Parameters :\n",
    "    points, points_count, min_dis (list(tuple(int, int)), int, int)\n",
    "\n",
    "    Returns :\n",
    "    min_dis (float):  distance between closest pair of points\n",
    "\n",
    "    >>> dis_between_closest_pair([[1,2],[2,4],[5,7],[8,9],[11,0]],5)\n",
    "    5\n",
    "\n",
    "    \"\"\"\n",
    "\n",
    "    for i in range(points_counts - 1):\n",
    "        for j in range(i + 1, points_counts):\n",
    "            current_dis = euclidean_distance_sqr(points[i], points[j])\n",
    "            if current_dis < min_dis:\n",
    "                min_dis = current_dis\n",
    "    return min_dis"
   ]
  },
  {
   "cell_type": "markdown",
   "metadata": {},
   "source": [
    "凸包问题\n",
    "\n",
    "python 下划线 https://zhuanlan.zhihu.com/p/36173202"
   ]
  },
  {
   "cell_type": "code",
   "execution_count": null,
   "metadata": {},
   "outputs": [],
   "source": [
    "class Point:\n",
    "    \"\"\"\n",
    "    Defines a 2-d point for use by all convex-hull algorithms.\n",
    "\n",
    "    Parameters\n",
    "    ----------\n",
    "    x: an int or a float, the x-coordinate of the 2-d point\n",
    "    y: an int or a float, the y-coordinate of the 2-d point\n",
    "\n",
    "    Examples\n",
    "    --------\n",
    "    >>> Point(1, 2)\n",
    "    (1.0, 2.0)\n",
    "    >>> Point(\"1\", \"2\")\n",
    "    (1.0, 2.0)\n",
    "    >>> Point(1, 2) > Point(0, 1)\n",
    "    True\n",
    "    >>> Point(1, 1) == Point(1, 1)\n",
    "    True\n",
    "    >>> Point(-0.5, 1) == Point(0.5, 1)\n",
    "    False\n",
    "    >>> Point(\"pi\", \"e\")\n",
    "    Traceback (most recent call last):\n",
    "        ...\n",
    "    ValueError: could not convert string to float: 'pi'\n",
    "    \"\"\"\n",
    "    def __init__(self, x, y):\n",
    "        self.x = float(x)\n",
    "        self.y = float(y)\n",
    "    \n",
    "    def __eq__(self, other):\n",
    "        return self.x == other.x and self.y == other.y"
   ]
  }
 ],
 "metadata": {
  "kernelspec": {
   "display_name": "Python 3",
   "language": "python",
   "name": "python3"
  },
  "language_info": {
   "codemirror_mode": {
    "name": "ipython",
    "version": 3
   },
   "file_extension": ".py",
   "mimetype": "text/x-python",
   "name": "python",
   "nbconvert_exporter": "python",
   "pygments_lexer": "ipython3",
   "version": "3.7.3"
  }
 },
 "nbformat": 4,
 "nbformat_minor": 2
}
