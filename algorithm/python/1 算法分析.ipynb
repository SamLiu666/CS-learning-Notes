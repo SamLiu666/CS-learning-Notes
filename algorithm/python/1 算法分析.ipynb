{
 "cells": [
  {
   "cell_type": "code",
   "execution_count": 1,
   "metadata": {},
   "outputs": [],
   "source": [
    "import math"
   ]
  },
  {
   "cell_type": "markdown",
   "metadata": {},
   "source": [
    "1 .求解方程"
   ]
  },
  {
   "cell_type": "code",
   "execution_count": 14,
   "metadata": {},
   "outputs": [],
   "source": [
    "def bisection(f, a, b):\n",
    "    start = a \n",
    "    end = b\n",
    "    \n",
    "    # 求解二元一次方程\n",
    "    if f(a)==0:\n",
    "        return a\n",
    "    elif f(b)==0:\n",
    "        return b\n",
    "    elif f(a)*f(b) > 0:\n",
    "        print(\"无解\")\n",
    "        return\n",
    "    else:\n",
    "        # 二分查找方程的解\n",
    "        mid = start + (end-start)/2.0\n",
    "        while abs(mid - start) > 10**-7:\n",
    "            if f(mid)==0:\n",
    "                return mid\n",
    "            elif f(a)*f(mid)<0:\n",
    "                end = mid\n",
    "            else:\n",
    "                start=mid\n",
    "            mid = start + (end-start)/2.0\n",
    "        return mid\n",
    "    \n",
    "def f(x):\n",
    "    return math.pow(x, 3) - 100*x + 3\n"
   ]
  },
  {
   "cell_type": "code",
   "execution_count": 15,
   "metadata": {},
   "outputs": [
    {
     "data": {
      "text/plain": [
       "9.984966158983298"
      ]
     },
     "execution_count": 15,
     "metadata": {},
     "output_type": "execute_result"
    }
   ],
   "source": [
    "bisection(f,1,500)"
   ]
  },
  {
   "cell_type": "code",
   "execution_count": 18,
   "metadata": {},
   "outputs": [],
   "source": [
    "\"\"\"\n",
    "Gaussian elimination method for solving a system of linear equations.\n",
    "Gaussian elimination - https://en.wikipedia.org/wiki/Gaussian_elimination\n",
    "\"\"\"\n",
    "\n",
    "\n",
    "import numpy as np\n",
    "\n",
    "\n",
    "def retroactive_resolution(coefficients: np.matrix, vector: np.array) -> np.array:\n",
    "    \"\"\"\n",
    "    This function performs a retroactive linear system resolution\n",
    "        for triangular matrix\n",
    "\n",
    "    Examples:\n",
    "        2x1 + 2x2 - 1x3 = 5         2x1 + 2x2 = -1\n",
    "        0x1 - 2x2 - 1x3 = -7        0x1 - 2x2 = -1\n",
    "        0x1 + 0x2 + 5x3 = 15\n",
    "    >>> gaussian_elimination([[2, 2, -1], [0, -2, -1], [0, 0, 5]], [[5], [-7], [15]])\n",
    "    array([[2.],\n",
    "           [2.],\n",
    "           [3.]])\n",
    "    >>> gaussian_elimination([[2, 2], [0, -2]], [[-1], [-1]])\n",
    "    array([[-1. ],\n",
    "           [ 0.5]])\n",
    "    \"\"\"\n",
    "\n",
    "    rows, columns = np.shape(coefficients)\n",
    "\n",
    "    x = np.zeros((rows, 1), dtype=float)\n",
    "    for row in reversed(range(rows)):\n",
    "        sum = 0\n",
    "        for col in range(row + 1, columns):\n",
    "            sum += coefficients[row, col] * x[col]\n",
    "\n",
    "        x[row, 0] = (vector[row] - sum) / coefficients[row, row]\n",
    "\n",
    "    return x\n",
    "\n",
    "\n",
    "def gaussian_elimination(coefficients: np.matrix, vector: np.array) -> np.array:\n",
    "    \"\"\"\n",
    "    This function performs Gaussian elimination method\n",
    "\n",
    "    Examples:\n",
    "        1x1 - 4x2 - 2x3 = -2        1x1 + 2x2 = 5\n",
    "        5x1 + 2x2 - 2x3 = -3        5x1 + 2x2 = 5\n",
    "        1x1 - 1x2 + 0x3 = 4\n",
    "    >>> gaussian_elimination([[1, -4, -2], [5, 2, -2], [1, -1, 0]], [[-2], [-3], [4]])\n",
    "    array([[ 2.3 ],\n",
    "           [-1.7 ],\n",
    "           [ 5.55]])\n",
    "    >>> gaussian_elimination([[1, 2], [5, 2]], [[5], [5]])\n",
    "    array([[0. ],\n",
    "           [2.5]])\n",
    "    \"\"\"\n",
    "    # coefficients must to be a square matrix so we need to check first\n",
    "    rows, columns = np.shape(coefficients)\n",
    "    if rows != columns:\n",
    "        return []\n",
    "\n",
    "    # augmented matrix\n",
    "    augmented_mat = np.concatenate((coefficients, vector), axis=1)\n",
    "    augmented_mat = augmented_mat.astype(\"float64\")\n",
    "\n",
    "    # scale the matrix leaving it triangular\n",
    "    for row in range(rows - 1):\n",
    "        pivot = augmented_mat[row, row]\n",
    "        for col in range(row + 1, columns):\n",
    "            factor = augmented_mat[col, row] / pivot\n",
    "            augmented_mat[col, :] -= factor * augmented_mat[row, :]\n",
    "\n",
    "    x = retroactive_resolution(\n",
    "        augmented_mat[:, 0:columns], augmented_mat[:, columns : columns + 1]\n",
    "    )\n",
    "\n",
    "    return x\n",
    "\n",
    "\n",
    "if __name__ == \"__main__\":\n",
    "#     import doctest\n",
    "\n",
    "#     doctest.testmod()\n",
    "    gaussian_elimination\n"
   ]
  },
  {
   "cell_type": "markdown",
   "metadata": {},
   "source": [
    "2. 牛顿法求解方程的根"
   ]
  },
  {
   "cell_type": "code",
   "execution_count": 19,
   "metadata": {},
   "outputs": [
    {
     "data": {
      "text/plain": [
       "1.863706527819189"
      ]
     },
     "execution_count": 19,
     "metadata": {},
     "output_type": "execute_result"
    }
   ],
   "source": [
    "def newton(f, f_hat, start):\n",
    "    \"\"\"\n",
    "    f:原函数\n",
    "    f_hat:原函数的导数\n",
    "    \"\"\"\n",
    "    x = start\n",
    "    \n",
    "    while True:\n",
    "        x_ = x - f(x)/f_hat(x)\n",
    "        if abs(x-x_) < 10**-5:\n",
    "            return x_\n",
    "        x = x_\n",
    "\n",
    "def f(x):\n",
    "    return (x**3) - (x**2) -3\n",
    "\n",
    "def f_hat(x):\n",
    "    return 3*x*x - 2*x\n",
    "\n",
    "newton(f, f_hat, 3)"
   ]
  },
  {
   "cell_type": "code",
   "execution_count": 26,
   "metadata": {},
   "outputs": [
    {
     "ename": "SyntaxError",
     "evalue": "invalid syntax (<ipython-input-26-f216cea7c06c>, line 21)",
     "output_type": "error",
     "traceback": [
      "\u001b[1;36m  File \u001b[1;32m\"<ipython-input-26-f216cea7c06c>\"\u001b[1;36m, line \u001b[1;32m21\u001b[0m\n\u001b[1;33m    print(f\"The root of sin(x) = 0 is {newton_raphson(\"x**2 - 5*x +2\", 0.4)\"})\u001b[0m\n\u001b[1;37m                                                       ^\u001b[0m\n\u001b[1;31mSyntaxError\u001b[0m\u001b[1;31m:\u001b[0m invalid syntax\n"
     ]
    }
   ],
   "source": [
    "from decimal import Decimal\n",
    "# 牛顿迭代法\n",
    "def newton_raphson(func: str, a: int, precision: int = 10 ** -10) -> float:\n",
    "    \"\"\" Finds root from the point 'a' onwards by Newton-Raphson method\n",
    "    >>> newton_raphson(\"sin(x)\", 2)\n",
    "    3.1415926536808043\n",
    "    >>> newton_raphson(\"x**2 - 5*x +2\", 0.4)\n",
    "    0.4384471871911695\n",
    "    >>> newton_raphson(\"x**2 - 5\", 0.1)\n",
    "    2.23606797749979\n",
    "    >>> newton_raphson(\"log(x)- 1\", 2)\n",
    "    2.718281828458938\n",
    "    \"\"\"\n",
    "    x = a\n",
    "    while True:\n",
    "        x = Decimal(x) - (Decimal(eval(func)) / Decimal(eval(str(diff(func)))))\n",
    "        # This number dictates the accuracy of the answer\n",
    "        if abs(eval(func)) < precision:\n",
    "            return float(x)\n",
    "        \n",
    "print(f\"The root of sin(x) = 0 is {newton_raphson(\"x**2 - 5*x +2\", 0.4)\"})"
   ]
  },
  {
   "cell_type": "code",
   "execution_count": null,
   "metadata": {},
   "outputs": [],
   "source": []
  }
 ],
 "metadata": {
  "kernelspec": {
   "display_name": "Python 3",
   "language": "python",
   "name": "python3"
  },
  "language_info": {
   "codemirror_mode": {
    "name": "ipython",
    "version": 3
   },
   "file_extension": ".py",
   "mimetype": "text/x-python",
   "name": "python",
   "nbconvert_exporter": "python",
   "pygments_lexer": "ipython3",
   "version": "3.7.3"
  }
 },
 "nbformat": 4,
 "nbformat_minor": 2
}
