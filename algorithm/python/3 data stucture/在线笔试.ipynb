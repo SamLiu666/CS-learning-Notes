{
 "cells": [
  {
   "cell_type": "code",
   "execution_count": 34,
   "metadata": {},
   "outputs": [
    {
     "name": "stdout",
     "output_type": "stream",
     "text": [
      "100\n",
      "001\n",
      "123456\n",
      "654321\n"
     ]
    },
    {
     "data": {
      "text/plain": [
       "(None, None)"
      ]
     },
     "execution_count": 34,
     "metadata": {},
     "output_type": "execute_result"
    }
   ],
   "source": [
    "def one(n:int):\n",
    "    \"\"\"输入为100，则输出为001\n",
    "    return none\"\"\"\n",
    "    s = str(n)\n",
    "    print(s)\n",
    "    print(s[::-1])\n",
    "one(100),one(123456)"
   ]
  },
  {
   "cell_type": "code",
   "execution_count": 35,
   "metadata": {},
   "outputs": [
    {
     "data": {
      "text/plain": [
       "(6, 20)"
      ]
     },
     "execution_count": 35,
     "metadata": {},
     "output_type": "execute_result"
    }
   ],
   "source": [
    "def two(x:int, y:int)->int:\n",
    "    \"\"\"input: 2,2 \n",
    "        output: 6\"\"\"\n",
    "    if x == 0 or y == 0:\n",
    "        return 1\n",
    "    return two(x-1, y) + two(x, y-1)\n",
    "\n",
    "two(2,2),two(3,3)"
   ]
  },
  {
   "cell_type": "code",
   "execution_count": 31,
   "metadata": {},
   "outputs": [
    {
     "data": {
      "text/plain": [
       "(1, 2)"
      ]
     },
     "execution_count": 31,
     "metadata": {},
     "output_type": "execute_result"
    }
   ],
   "source": [
    "def three(m:int, n:int)->int:\n",
    "    \"\"\"\n",
    "    两个int32整数m和n的二进制表达，有多少个位(bit)不同吗\n",
    "    input:3,2\"\"\"\n",
    "    ans = m^n\n",
    "    count = 0\n",
    "#     print(ans)\n",
    "    while ans != 0:\n",
    "        ans = ans & (ans-1)\n",
    "        count += 1\n",
    "    return count\n",
    "\n",
    "three(3,2),three(4,2)"
   ]
  },
  {
   "cell_type": "code",
   "execution_count": null,
   "metadata": {},
   "outputs": [],
   "source": []
  }
 ],
 "metadata": {
  "kernelspec": {
   "display_name": "Python 3",
   "language": "python",
   "name": "python3"
  },
  "language_info": {
   "codemirror_mode": {
    "name": "ipython",
    "version": 3
   },
   "file_extension": ".py",
   "mimetype": "text/x-python",
   "name": "python",
   "nbconvert_exporter": "python",
   "pygments_lexer": "ipython3",
   "version": "3.7.3"
  }
 },
 "nbformat": 4,
 "nbformat_minor": 2
}
