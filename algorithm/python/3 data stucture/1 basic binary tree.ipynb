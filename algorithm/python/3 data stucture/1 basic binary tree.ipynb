{
 "cells": [
  {
   "cell_type": "markdown",
   "metadata": {},
   "source": [
    "![a](https://www.geeksforgeeks.org/wp-content/uploads/binary-tree-to-DLL.png)\n",
    "\n",
    "基本二叉树：值:中间结点大于左节点小于右节点，Python实现"
   ]
  },
  {
   "cell_type": "code",
   "execution_count": 2,
   "metadata": {},
   "outputs": [],
   "source": [
    "class Node(object):\n",
    "    # 定义结点\n",
    "    def __init__(self, val):\n",
    "        self.val = val\n",
    "        self.left = None\n",
    "        self.right = None"
   ]
  },
  {
   "cell_type": "code",
   "execution_count": 12,
   "metadata": {},
   "outputs": [],
   "source": [
    "# build a tree\n",
    "def display(tree):\n",
    "    \n",
    "    if tree is None:\n",
    "        return\n",
    "    \n",
    "    print(tree.val, end=\" \")  #  顺序遍历,preorder\n",
    "    if tree.left:\n",
    "        display(tree.left)\n",
    "        \n",
    "#     print(tree.val, end=\" \")  #  先左\n",
    "    \n",
    "    if tree.right:\n",
    "        display(tree.right)\n",
    "    return\n",
    "\n",
    "# tree depth\n",
    "def depth_of_tree(tree):\n",
    "    if tree is None:\n",
    "        return 0\n",
    "    else:\n",
    "        l_depth = depth_of_tree(tree.left)\n",
    "        r_depth = depth_of_tree(tree.right)\n",
    "    \n",
    "    return 1 + max(l_depth, r_depth)\n",
    "\n",
    "# if full binary tree\n",
    "def is_full_binary_tree(tree):\n",
    "    if tree is None:\n",
    "        return True\n",
    "    \n",
    "    if tree.left is None and tree.right is None:\n",
    "        return True\n",
    "    if tree.left is not None and tree.right is not None:\n",
    "        return is_full_binary_tree(tree.left) and is_full_binary_tree(tree.right)\n",
    "    else:\n",
    "        return False"
   ]
  },
  {
   "cell_type": "code",
   "execution_count": 13,
   "metadata": {},
   "outputs": [
    {
     "name": "stdout",
     "output_type": "stream",
     "text": [
      "5\n",
      "####################\n",
      "False\n",
      "####################\n",
      "Tree is: \n",
      "1 2 4 5 6 3 7 8 9 "
     ]
    }
   ],
   "source": [
    "def main():  # Main function for testing.\n",
    "    tree = Node(1)\n",
    "    tree.left = Node(2)\n",
    "    tree.right = Node(3)\n",
    "    tree.left.left = Node(4)\n",
    "    tree.left.right = Node(5)\n",
    "    tree.left.right.left = Node(6)\n",
    "    \n",
    "    tree.right.left = Node(7)\n",
    "    tree.right.left.left = Node(8)\n",
    "    tree.right.left.left.right = Node(9)\n",
    "    \n",
    "    print(depth_of_tree(tree))\n",
    "    print(\"####################\")\n",
    "    print(is_full_binary_tree(tree))\n",
    "    print(\"####################\")\n",
    "    print(\"Tree is: \")\n",
    "    display(tree)\n",
    "\n",
    "    \n",
    "main()"
   ]
  },
  {
   "cell_type": "markdown",
   "metadata": {},
   "source": [
    "![a](https://media.geeksforgeeks.org/wp-content/cdn-uploads/2009/06/tree12.gif)\n",
    "\n",
    "Depth First Traversals:\n",
    "    \n",
    "(a) Inorder (Left, Root, Right) : 4 2 5 1 3   中序遍历\n",
    "    \n",
    "(b) Preorder (Root, Left, Right) : 1 2 4 5 3   前序遍历\n",
    "    \n",
    "(c) Postorder (Left, Right, Root) : 4 5 2 3 1   后序遍历\n",
    "\n",
    "Breadth First or Level Order Traversal : 1 2 3 4 5"
   ]
  },
  {
   "cell_type": "code",
   "execution_count": null,
   "metadata": {},
   "outputs": [],
   "source": []
  }
 ],
 "metadata": {
  "kernelspec": {
   "display_name": "Python 3",
   "language": "python",
   "name": "python3"
  },
  "language_info": {
   "codemirror_mode": {
    "name": "ipython",
    "version": 3
   },
   "file_extension": ".py",
   "mimetype": "text/x-python",
   "name": "python",
   "nbconvert_exporter": "python",
   "pygments_lexer": "ipython3",
   "version": "3.7.3"
  }
 },
 "nbformat": 4,
 "nbformat_minor": 2
}
