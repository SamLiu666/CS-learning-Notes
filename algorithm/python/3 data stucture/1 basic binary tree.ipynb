{
 "cells": [
  {
   "cell_type": "markdown",
   "metadata": {},
   "source": [
    "![a](https://www.geeksforgeeks.org/wp-content/uploads/binary-tree-to-DLL.png)\n",
    "\n",
    "基本二叉树：值:中间结点大于左节点小于右节点，Python实现"
   ]
  },
  {
   "cell_type": "code",
   "execution_count": 23,
   "metadata": {},
   "outputs": [],
   "source": [
    "class Node:\n",
    "    # 定义结点\n",
    "    def __init__(self, value, parent=None):\n",
    "        self.value = value\n",
    "        self.left = None\n",
    "        self.right = None\n",
    "        self.parent = parent\n",
    "        \n",
    "    def __repr__(self):\n",
    "        from pprint import pformat\n",
    "        \n",
    "        if self.left is None and self.right is None:\n",
    "            return str(self.value)\n",
    "        return pformat({\"%s\" % (self.value): (self.left, self.right)}, indent=1)"
   ]
  },
  {
   "cell_type": "code",
   "execution_count": null,
   "metadata": {},
   "outputs": [],
   "source": []
  },
  {
   "cell_type": "code",
   "execution_count": 24,
   "metadata": {},
   "outputs": [],
   "source": [
    "# build a tree\n",
    "def display(tree):\n",
    "    \n",
    "    if tree is None:\n",
    "        return\n",
    "    \n",
    "    print(tree.val, end=\" \")  #  顺序遍历,preorder\n",
    "    if tree.left:\n",
    "        display(tree.left)\n",
    "        \n",
    "#     print(tree.val, end=\" \")  #  先左\n",
    "    \n",
    "    if tree.right:\n",
    "        display(tree.right)\n",
    "    return\n",
    "\n",
    "# tree depth\n",
    "def depth_of_tree(tree):\n",
    "    if tree is None:\n",
    "        return 0\n",
    "    else:\n",
    "        l_depth = depth_of_tree(tree.left)\n",
    "        r_depth = depth_of_tree(tree.right)\n",
    "    \n",
    "    return 1 + max(l_depth, r_depth)\n",
    "\n",
    "# if full binary tree\n",
    "def is_full_binary_tree(tree):\n",
    "    if tree is None:\n",
    "        return True\n",
    "    \n",
    "    if tree.left is None and tree.right is None:\n",
    "        return True\n",
    "    if tree.left is not None and tree.right is not None:\n",
    "        return is_full_binary_tree(tree.left) and is_full_binary_tree(tree.right)\n",
    "    else:\n",
    "        return False"
   ]
  },
  {
   "cell_type": "code",
   "execution_count": 11,
   "metadata": {},
   "outputs": [
    {
     "name": "stdout",
     "output_type": "stream",
     "text": [
      "5\n",
      "####################\n",
      "False\n",
      "####################\n",
      "Tree is: \n",
      "1 2 4 5 6 3 7 8 9 "
     ]
    }
   ],
   "source": [
    "def main():  # Main function for testing.\n",
    "    tree = Node(1)\n",
    "    tree.left = Node(2)\n",
    "    tree.right = Node(3)\n",
    "    tree.left.left = Node(4)\n",
    "    tree.left.right = Node(5)\n",
    "    tree.left.right.left = Node(6)\n",
    "    \n",
    "    tree.right.left = Node(7)\n",
    "    tree.right.left.left = Node(8)\n",
    "    tree.right.left.left.right = Node(9)\n",
    "    \n",
    "    print(depth_of_tree(tree))\n",
    "    print(\"####################\")\n",
    "    print(is_full_binary_tree(tree))\n",
    "    print(\"####################\")\n",
    "    print(\"Tree is: \")\n",
    "    display(tree)\n",
    "\n",
    "    \n",
    "main()"
   ]
  },
  {
   "cell_type": "markdown",
   "metadata": {},
   "source": [
    "![a](https://media.geeksforgeeks.org/wp-content/cdn-uploads/2009/06/tree12.gif)\n",
    "\n",
    "Depth First Traversals:\n",
    "    \n",
    "(a) Inorder (Left, Root, Right) : 4 2 5 1 3   中序遍历\n",
    "    \n",
    "(b) Preorder (Root, Left, Right) : 1 2 4 5 3   前序遍历\n",
    "    \n",
    "(c) Postorder (Left, Right, Root) : 4 5 2 3 1   后序遍历\n",
    "\n",
    "Breadth First or Level Order Traversal : 1 2 3 4 5"
   ]
  },
  {
   "cell_type": "markdown",
   "metadata": {},
   "source": [
    "# 二分查找树"
   ]
  },
  {
   "cell_type": "code",
   "execution_count": 29,
   "metadata": {},
   "outputs": [],
   "source": [
    "class BinarySearchTree:\n",
    "    def __init__(self, root=None):\n",
    "        self.root = root\n",
    "        \n",
    "    def __str__(self):\n",
    "        return str(self.root)\n",
    "    \n",
    "    def __reassign_nodes(self, node, new_children):\n",
    "        if new_children is not None:  # reset children\n",
    "            new_children.parent = node.parent\n",
    "        if node.parent is not None:\n",
    "            # reset parent\n",
    "            if self.is_right(node):\n",
    "                node.parent.right = new_children\n",
    "            else:\n",
    "                node.parent.left = new_children\n",
    "        else:\n",
    "            self.root = new_children\n",
    "            \n",
    "    def is_right(self, node):\n",
    "        return node == node.parent.right\n",
    "    \n",
    "    def empty(self):\n",
    "        return self.root is None\n",
    "    \n",
    "    def __insert(self, value):\n",
    "        # insert value in BST\n",
    "        new_node = Node(value)\n",
    "        if self.empty():\n",
    "            self.root = new_node\n",
    "        else: # not empty\n",
    "            parent_node = self.root  # from root\n",
    "            while True:\n",
    "                if value < parent_node.value:\n",
    "                    if parent_node.left is None:\n",
    "                        parent_node.left = new_node\n",
    "                        break\n",
    "                    else:\n",
    "                        parent_node = parent_node.left\n",
    "                else:\n",
    "                    if parent_node.right is None:\n",
    "                        parent_node.right = new_node\n",
    "                        break\n",
    "                    else:\n",
    "                        parent_node = parent_node.right\n",
    "            new_node.parent = parent_node\n",
    "            \n",
    "    def insert(self, *values):\n",
    "        # 默认插入\n",
    "        for value in values:\n",
    "            self.__insert(value)\n",
    "        return self\n",
    "    \n",
    "    def search(self, value):\n",
    "        if self.empty():\n",
    "            raise IndexError(\"Warning: Tree is empty! please use another.\")\n",
    "        else:\n",
    "            node = self.root\n",
    "            while node is not None and node.value is not value:\n",
    "                node = node.left if value<node.value else node.right\n",
    "            return node\n",
    "    \n",
    "    def get_max(self, node=None):\n",
    "        if node is None:\n",
    "            node = self.root\n",
    "        if not self.empty():\n",
    "            while node.right is not None:\n",
    "                node = node.right\n",
    "        return node\n",
    "    \n",
    "    def get_min(self, node=None):\n",
    "        \"\"\"\n",
    "        We go deep on the left branch\n",
    "        \"\"\"\n",
    "        if node is None:\n",
    "            node = self.root\n",
    "        if not self.empty():\n",
    "            node = self.root\n",
    "            while node.left is not None:\n",
    "                node = node.left\n",
    "        return node\n",
    "    \n",
    "    def remove(self, value):\n",
    "        node = self.search(value)\n",
    "        if node is not None:\n",
    "            if node.left is None and node.right is None:\n",
    "                self.__reassign_nodes(node, None)\n",
    "            elif node.left is None:\n",
    "                self.__reassign_nodes(node, node.right)\n",
    "            elif node.right is None:\n",
    "                self.__reassign_nodes(node, node.left)\n",
    "            else:\n",
    "                tmp_node = self.get_max(node.left)\n",
    "                self.remove(tmp_node.value)\n",
    "                node.value = (tmp_node.value)\n",
    "    def preorder_traverse(self, node):\n",
    "        # 根左右\n",
    "        if node is not None:\n",
    "            yield node\n",
    "            yield from spreorder_traverse(node.left)\n",
    "            yield from spreorder_traverse(node.right)\n",
    "            \n",
    "    def traversal_tree(self, traversal_function=None):\n",
    "        if traversal_function is None:\n",
    "            return self.preorder_traverse(self.root)\n",
    "        else:\n",
    "            return traversal_function(self.root)"
   ]
  },
  {
   "cell_type": "code",
   "execution_count": 26,
   "metadata": {},
   "outputs": [],
   "source": [
    "def postorder(curr_node):\n",
    "    \"\"\"\n",
    "    postOrder (left, right, root)\n",
    "    \"\"\"\n",
    "    node_list = list()\n",
    "    if curr_node is not None:\n",
    "        node_list = postorder(curr_node.left) + postorder(curr_node.right) + [curr_node]\n",
    "    return node_list"
   ]
  },
  {
   "cell_type": "code",
   "execution_count": 30,
   "metadata": {},
   "outputs": [],
   "source": [
    "def binary_search_tree():\n",
    "    r\"\"\"\n",
    "    Example\n",
    "                  8\n",
    "                 / \\\n",
    "                3   10\n",
    "               / \\    \\\n",
    "              1   6    14\n",
    "                 / \\   /\n",
    "                4   7 13\n",
    "\n",
    "    >>> t = BinarySearchTree().insert(8, 3, 6, 1, 10, 14, 13, 4, 7)\n",
    "    >>> print(\" \".join(repr(i.value) for i in t.traversal_tree()))\n",
    "    8 3 1 6 4 7 10 14 13\n",
    "    >>> print(\" \".join(repr(i.value) for i in t.traversal_tree(postorder)))\n",
    "    1 4 7 6 3 13 14 10 8\n",
    "    >>> BinarySearchTree().search(6)\n",
    "    Traceback (most recent call last):\n",
    "    ...\n",
    "    IndexError: Warning: Tree is empty! please use another.\n",
    "    \"\"\"\n",
    "    testlist = (8, 3, 6, 1, 10, 14, 13, 4, 7)\n",
    "    t = BinarySearchTree()\n",
    "    for i in testlist:\n",
    "        t.insert(i)\n",
    "    print(t)"
   ]
  },
  {
   "cell_type": "code",
   "execution_count": 31,
   "metadata": {
    "scrolled": true
   },
   "outputs": [
    {
     "name": "stdout",
     "output_type": "stream",
     "text": [
      "{'8': ({'3': (1, {'6': (4, 7)})}, {'10': (None, {'14': (13, None)})})}\n"
     ]
    }
   ],
   "source": [
    "binary_search_tree()"
   ]
  },
  {
   "cell_type": "code",
   "execution_count": 37,
   "metadata": {},
   "outputs": [],
   "source": [
    "def helper():\n",
    "    testlist = (8, 3, 6, 1, 10, 14, 13, 4, 7)\n",
    "    t = BinarySearchTree()\n",
    "    for i in testlist:\n",
    "        t.insert(i)\n",
    "    if t.search(6) is not None:\n",
    "        print(\"The value 6 exists\")\n",
    "    else:\n",
    "        print(\"The value 6 doesn't exist\")\n",
    "\n",
    "    if t.search(-1) is not None:\n",
    "        print(\"The value -1 exists\")\n",
    "    else:\n",
    "        print(\"The value -1 doesn't exist\")\n",
    "\n",
    "    if not t.empty():\n",
    "        print(\"Max Value: \", t.get_max().value)\n",
    "        print(\"Min Value: \", t.get_min().value)\n",
    "    \n",
    "    print(testlist)\n",
    "    print(t)\n",
    "    for i in testlist:\n",
    "        t.remove(i)\n",
    "        print(t)"
   ]
  },
  {
   "cell_type": "code",
   "execution_count": 38,
   "metadata": {},
   "outputs": [
    {
     "name": "stdout",
     "output_type": "stream",
     "text": [
      "The value 6 exists\n",
      "The value -1 doesn't exist\n",
      "Max Value:  14\n",
      "Min Value:  1\n",
      "(8, 3, 6, 1, 10, 14, 13, 4, 7)\n",
      "{'8': ({'3': (1, {'6': (4, 7)})}, {'10': (None, {'14': (13, None)})})}\n",
      "{'7': ({'3': (1, {'6': (4, None)})}, {'10': (None, {'14': (13, None)})})}\n",
      "{'7': ({'1': (None, {'6': (4, None)})}, {'10': (None, {'14': (13, None)})})}\n",
      "{'7': ({'1': (None, 4)}, {'10': (None, {'14': (13, None)})})}\n",
      "{'7': (4, {'10': (None, {'14': (13, None)})})}\n",
      "{'7': (4, {'14': (13, None)})}\n",
      "{'7': (4, 13)}\n",
      "{'7': (4, None)}\n",
      "7\n",
      "None\n"
     ]
    }
   ],
   "source": [
    "helper()"
   ]
  },
  {
   "cell_type": "code",
   "execution_count": null,
   "metadata": {},
   "outputs": [],
   "source": []
  }
 ],
 "metadata": {
  "kernelspec": {
   "display_name": "Python 3",
   "language": "python",
   "name": "python3"
  },
  "language_info": {
   "codemirror_mode": {
    "name": "ipython",
    "version": 3
   },
   "file_extension": ".py",
   "mimetype": "text/x-python",
   "name": "python",
   "nbconvert_exporter": "python",
   "pygments_lexer": "ipython3",
   "version": "3.7.3"
  }
 },
 "nbformat": 4,
 "nbformat_minor": 2
}
