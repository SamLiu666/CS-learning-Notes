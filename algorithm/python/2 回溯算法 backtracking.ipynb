{
 "cells": [
  {
   "cell_type": "markdown",
   "metadata": {},
   "source": [
    "# 1. 组合问题 \n",
    "\n",
    "Time complexity: $$(n choose k) = \\frac{O((n!)}{(k! * (n - k)!)))}$$"
   ]
  },
  {
   "cell_type": "code",
   "execution_count": 6,
   "metadata": {},
   "outputs": [
    {
     "name": "stdout",
     "output_type": "stream",
     "text": [
      "[1, 2]\n",
      "[1, 3]\n",
      "[1, 4]\n",
      "[2, 3]\n",
      "[2, 4]\n",
      "[3, 4]\n",
      "6\n"
     ]
    }
   ],
   "source": [
    "def combination(n:int, k:int)->[[int]]:\n",
    "    \"\"\"\n",
    "    >>> combination(n=4, k=2)\n",
    "    [[1, 2], [1, 3], [1, 4], [2, 3], [2, 4], [3, 4]]\n",
    "    \"\"\"\n",
    "    result = []\n",
    "    helper(1, n, k, [], result)\n",
    "    return result\n",
    "\n",
    "def helper(start, end, k, current, result):\n",
    "    if k==0:\n",
    "        result.append(current[:])\n",
    "        return\n",
    "    \n",
    "    for i in range(start, end-k+2):\n",
    "        current.append(i)\n",
    "        helper(i+1, end, k-1, current, result)\n",
    "        current.pop()\n",
    "\n",
    "def test(n=4, k=2):\n",
    "    a = n\n",
    "    b = k\n",
    "    ans = combination(n, k)\n",
    "    for i in ans:\n",
    "        print(i)\n",
    "    print(len(ans))\n",
    "\n",
    "test()"
   ]
  },
  {
   "cell_type": "markdown",
   "metadata": {},
   "source": [
    "# 2. 排列问题\n",
    "\n",
    "Time complexity: $$O(n! * n)$$"
   ]
  },
  {
   "cell_type": "code",
   "execution_count": 21,
   "metadata": {},
   "outputs": [
    {
     "name": "stdout",
     "output_type": "stream",
     "text": [
      "['A', 'B', 'C']\n",
      "['A', 'C', 'B']\n",
      "['B', 'A', 'C']\n",
      "['B', 'C', 'A']\n",
      "['C', 'A', 'B']\n",
      "['C', 'B', 'A']\n",
      "6\n"
     ]
    }
   ],
   "source": [
    "def permutations(sequence:list):\n",
    "    index_used = [0 for _ in range(len(sequence))]\n",
    "    result = []\n",
    "    current = []\n",
    "    helper(sequence, 0, index_used, current, result)\n",
    "    return result\n",
    "    \n",
    "def helper(sequence, index, index_used, current, results):\n",
    "    if index == len(sequence):\n",
    "        print(current)\n",
    "        results.append(current[:])\n",
    "        return\n",
    "\n",
    "    for i in range(len(sequence)):\n",
    "        if not index_used[i]:\n",
    "            current.append(sequence[i])\n",
    "            index_used[i] = True\n",
    "            helper(sequence, index+1, index_used, current, results)\n",
    "            current.pop()\n",
    "            index_used[i] = False\n",
    "            \n",
    "sequence = [\"A\", \"B\", \"C\"]\n",
    "\n",
    "# sequence = [3, 1, 2]\n",
    "ans = permutations(sequence)\n",
    "print(len(ans))"
   ]
  },
  {
   "cell_type": "markdown",
   "metadata": {},
   "source": [
    "# 3. 子集\n",
    "\n",
    "Time complexity: O(2^n) --- n 是序列长度"
   ]
  },
  {
   "cell_type": "code",
   "execution_count": 23,
   "metadata": {},
   "outputs": [
    {
     "name": "stdout",
     "output_type": "stream",
     "text": [
      "[]\n",
      "['C']\n",
      "['B']\n",
      "['B', 'C']\n",
      "['A']\n",
      "['A', 'C']\n",
      "['A', 'B']\n",
      "['A', 'B', 'C']\n"
     ]
    }
   ],
   "source": [
    "def subsequence(sequence):\n",
    "    helper(sequence, [], 0)\n",
    "\n",
    "\n",
    "def helper(sequence, current_subsequence, index):\n",
    "    \n",
    "    if index == len(sequence):\n",
    "        print(current_subsequence)\n",
    "        return\n",
    "\n",
    "    helper(sequence, current_subsequence, index + 1)\n",
    "    current_subsequence.append(sequence[index])\n",
    "    helper(sequence, current_subsequence, index + 1)\n",
    "    current_subsequence.pop()\n",
    "\n",
    "\n",
    "\"\"\"\n",
    "remove the comment to take an input from the user\n",
    "\n",
    "print(\"Enter the elements\")\n",
    "sequence = list(map(int, input().split()))\n",
    "# \"\"\"\n",
    "\n",
    "# sequence = [3, 1, 2, 4]\n",
    "# generate_all_subsequences(sequence)\n",
    "\n",
    "sequence = [\"A\", \"B\", \"C\"]\n",
    "generate_all_subsequences(sequence)\n",
    "    "
   ]
  },
  {
   "cell_type": "code",
   "execution_count": null,
   "metadata": {},
   "outputs": [],
   "source": []
  }
 ],
 "metadata": {
  "kernelspec": {
   "display_name": "Python 3",
   "language": "python",
   "name": "python3"
  },
  "language_info": {
   "codemirror_mode": {
    "name": "ipython",
    "version": 3
   },
   "file_extension": ".py",
   "mimetype": "text/x-python",
   "name": "python",
   "nbconvert_exporter": "python",
   "pygments_lexer": "ipython3",
   "version": "3.7.3"
  }
 },
 "nbformat": 4,
 "nbformat_minor": 2
}
